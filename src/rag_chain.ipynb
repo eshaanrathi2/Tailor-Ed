{
 "cells": [
  {
   "cell_type": "code",
   "execution_count": 45,
   "metadata": {},
   "outputs": [],
   "source": [
    "query = \"grading policy | marks distribution\""
   ]
  },
  {
   "cell_type": "code",
   "execution_count": 2,
   "metadata": {},
   "outputs": [],
   "source": [
    "from langchain_community.document_loaders import JSONLoader\n",
    "from langchain_text_splitters import RecursiveCharacterTextSplitter\n",
    "from langchain_community.embeddings import GPT4AllEmbeddings\n",
    "from langchain_community.vectorstores import Chroma"
   ]
  },
  {
   "cell_type": "code",
   "execution_count": 3,
   "metadata": {},
   "outputs": [],
   "source": [
    "import json\n",
    "from pathlib import Path\n",
    "from pprint import pprint"
   ]
  },
  {
   "cell_type": "code",
   "execution_count": 4,
   "metadata": {},
   "outputs": [],
   "source": [
    "file_path='../data/test.json'"
   ]
  },
  {
   "cell_type": "code",
   "execution_count": 12,
   "metadata": {},
   "outputs": [],
   "source": [
    "json_data = json.loads(Path(file_path).read_text())"
   ]
  },
  {
   "cell_type": "code",
   "execution_count": 13,
   "metadata": {},
   "outputs": [
    {
     "name": "stdout",
     "output_type": "stream",
     "text": [
      "10\n"
     ]
    }
   ],
   "source": [
    "print(len(json_data['docs']))"
   ]
  },
  {
   "cell_type": "code",
   "execution_count": 14,
   "metadata": {},
   "outputs": [],
   "source": [
    "from gpt4all import Embed4All\n",
    "import numpy as np"
   ]
  },
  {
   "cell_type": "code",
   "execution_count": 46,
   "metadata": {},
   "outputs": [],
   "source": [
    "# Initialize Embed4All\n",
    "embeddings = Embed4All()\n",
    "query_vec = embeddings.embed(query)"
   ]
  },
  {
   "cell_type": "code",
   "execution_count": 19,
   "metadata": {},
   "outputs": [
    {
     "name": "stdout",
     "output_type": "stream",
     "text": [
      "{'Judson-MATH-1A-01-W19': {'grading': 'General Grading: Each lab member is required to turn in their own lab report. Failure to turn in a lab\\nreport will result in a 0 for that lab member. There will be no late labs accepted. Each lab will be graded\\nout of 100 points. Except where indicated on an individual lab, I will randomly select different lab reports\\nto assess for each section of the lab. Every member of the lab group will receive the same score for a. If you are taking the honors section of this course you will be required to do the honors problems\\non the homework assignments. These problems will represent half of your homework grade. In\\nlieu of your discussion grade you will also complete an honors project. The honors project will be\\na somewhat shorter version of a lab assignment that you will complete individually.\\n\\nGrading Scale\\n\\nDue to the complexity of the material the grading scale we will use is as follows. the homework must be stapled together. Four points of your homework grade are allotted to\\nformatting. On the first assignment you will be penalized 1 point per formatting error. On the\\nsecond assignment you will be penalized 2 points per formatting error. After the second\\nassignment any formatting error will forfeit all 4 points that are assigned for formatting. Each\\nhomework will consist of 20 problems. Four of these problems will be graded for content. These. 2) Calculator: TI83/84 graphing calculator or similar\\nTI89 or any calculator with a CAS will not be allowed.\\nCalculators will be required on about half of the tests and quizzes.\\n\\nGrade\\nYour grade will be computed using the following grade distribution.\\n5% Labs 10% Quizzes\\n9% Discussion 40% Midterms (4)\\n10% Homework 30% Final\\n\\nExams. will be graded out of 5 points each. You will not know which 4 problems will be graded. For the\\nremaining 16 problems you will be awarded one point each provided that I believe you attempted\\nthe problem. In this way each assignment is worth 40 points. Some homeworks will list\\nAdditional Problems. These are required problems that are part of the assignments 20 problems.\\nEach assignment will also list Honors Problems. If you are not taking the honors section of this. '}, 'Lien-MATH-1A-05-W19': {'grading': '80-82.9% «|B\\n63-679% «(DS\\n60-62.9% «(| D-\\n\\n \\n\\nFinal grades are non-negotiable. You should monitor your scores in the gradebook regularly throughout the\\nquarter. If there are any discrepancies, they should be brought to my attention as soon as possible.\\n\\x0cTUTORING. GRADING\\n\\n- Attendance is mandatory as part of your participation grade. You must also be present to completely fill\\nin your binder for the binder check at the end of the quarter.\\n\\n- Please see the FAQ at the end of the syllabus for information about the binder check.\\n\\n- There will be three in-class midterms and a final. Please bring in a valid photo ID on exam days.. - Your lowest quiz score will be dropped.\\n\\n- The grades for the exams will be changed only if there is a clear error on my part, such as adding up\\nmarks incorrectly. Problems must be brought to my attention immediately after exams are returned.\\n\\n- Changing your work (adding to and/or erasing any of your work) after the exam has been graded is\\nconsidered to be academic dishonesty and you may eam a 0 on the exam.. - An incomplete grade (I) is rarely assigned. It will only be assigned in extreme situations (i.e.\\nunforeseeable emergency and justifiable reason at the end of the term that prevent you from completing\\nthe course). You must be in good standing with near-perfect attendance and an overall grade of a 70%\\n(C) or greater in order to request for an incomplete grade.\\n\\nBreakdown of grades:\\nHomework\\n63-879% «BO\\n\\n80-82.9% «|B\\n63-679% «(DS\\n60-62.9% «(| D-. ANSWER: To earn the full 5% for participation, you must be present in class and provide me with your full\\nattention. This means you are following along with the lecture and filling in your notes, asking me any\\nquestions if something is unclear.\\n\\nQUESTION: What is my current grade in the class?\\nANSWER: I use Canvas to keep track of the scores you earn on each assignment, quiz, and exam. You\\nshould monitor it regularly to see your current standing in the course.. '}, 'Howard-MATH-1A-07-W19': {'grading': \"Grading:\\n\\nHomework: Homework will be assigned after almost every class and it will primarily\\ncome from the textbook (there is no online homework for this class). | will not collect. 60-69% = D.\\n\\nbelow 60% = F.\\n\\nThis grading scale is not set entirely in stone. | may curve the class at the very end of\\nthe course, and letter grades will be determined by a curve at the instructor's discretion.\\nIt depends on how the entire class performs, but the above scale will be a good\\nindication of how you are doing in the course.\\n\\nCourse Description: Fundamentals of Differential Calculus.. and exercise numbers listed on the front page or else points will be deducted. If you turn\\nin the wrong homework assignment, then you will receive a zero for that assignment. It\\nis your responsibility to make sure that you are organized and turn in the correct\\nhomework assignment. The homework will be graded on a scale of 1-10 where 10 isa\\nperfect score. | will be primarily grading the homework on effort and to give you\\nfeedback.. Tests: There will be a total of 4 exams in the class: 3 midterms and 1 final. | do not give\\nmake up exams, with the possible exception of the final exam under extreme\\ncircumstances. In the event that you miss an exam, you will be permitted to replace the\\nzero you received on one midterm exam by your next midterm (or final exam in the\\nevent you miss the third midterm) grade on a percentage equivalent basis. You can use\\na scientific calculator. lf a student is caught cheating, the instructor reserves the right to assign a grade of F\\nfor that exam/quiz or to drop the student with a W from the course. If a student is\\nreturned a graded test or quiz and the student changes his or her incorrect answers in\\norder to receive more points, the student is considered cheating and such an act will\\ncarry the same consequences as those mentioned above. If you are caught cheating on\\nthe final exam, you might receive a grade of F for the course.. \"}, 'Mailhot-MATH-1A-09-W19': {'grading': 'Homework and in-class assignments: 10%\\n\\nQuizzes (lowest score dropped): 15%\\n3 Midterms: 15% each\\nFinal Exam: 30%\\n\\nGrade breakdowns are:\\n\\n92.5% and above: A\\n\\n90 — 92.5%: A-\\n87.5 — 90%: Bt\\n82.5 — 87.5%: B\\n80 — 82.5%: B-\\n77.5 — 80%: C+\\n70 — 77.5%: C\\n60 — 70%: D\\nunder 60%: F. of your course grade.. Friday, March 22 — Last regular class day\\n\\nMonday, March 25 — Final Exam (11:30am — 1:30pm)\\n\\x0cStudent Learning Outcome(s):\\n\\n* Analyze and synthesize the concepts of limits, continuity, and differentiation from a\\ngraphical, numerical, analytical and verbal approach, using correct notation and\\nmathematical precision.. College Policies:\\ne Students cannot take the same class more than three times for a grade, including W.\\ne Late adds and late drops will not be processed.. Quizzes: | will give pop quizzes in class on a random basis. Calculators are not allowed on quizzes.\\nMake-up quizzes will not be given. Your lowest quiz score will be dropped.. '}, 'Nay-MATH-1A-11-W19': {'grading': 'Midterm Exam #2\\nMidterm Exam #3\\n\\nMidterm Exam #1\\n\\n80.0-82.9%\\n\\n \\n\\n78.0-79.9% C+\\n\\n60.0-67.9% | DD\\n\\nFinal grades are non-negotiable. You should monitor your scores regularly throughout the\\nquarter. If there are any discrepancies, they should be brought to my attention as soon as\\npossible. Grades on exams, homework, and/or quizzes will be changed only if there is a clear\\nerror on my part, such as adding up marks incorrectly.. EXAMS\\n\\nThere will be three (3) midterm exams and one final exam during the quarter. The midterm\\nexams will be specific to the topic(s) being covered for that portion of the quarter. The final\\nexam will be comprehensive. All exams will be closed book with no calculators allowed. The\\nuse of note cards will be at my discretion for each exam.\\n\\nGRADING\\n\\nBreakdown of Grade\\nHomework (6)\\nQuizzes (10)\\n\\nGrading Scale\\n100-99.0% A\\n93.0-98.9%\\n90.0-92.9%\\n88.0-89.9%\\n83.0-87.9%. An incomplete grade (1) is rarely assigned. It will only be assigned in extreme situations (i.e.\\nunforeseeable emergency and justifiable reason at the end of the term that prevent you from\\ncompleting the course). You must be in good standing with near-perfect attendance and an\\noverall grade of a 70% (C) or greater in order to request for an incomplete grade.\\n\\x0cMATH-1A-11-W19 Syllabus\\n\\nMAKE-UP POLICY. Student Learning Outcome(s):\\n\\n* Analyze and synthesize the concepts of limits, continuity, and differentiation from a graphical,\\nnumerical, analytical and verbal approach, using correct notation and mathematical precision.\\n\\n*Evaluate the behavior of graphs in the context of limits, continuity and differentiability.\\n\\n*Recognize, diagnose, and decide on the appropriate method for solving applied real world\\nproblems in optimization, related rates and numerical approximation.. MATH-1A-11-W19 Syllabus\\n\\nHOMEWORK\\n\\nSix (6) homework assignments will be given during the quarter. The homework will be graded\\nand returned prior to the subsequent exam so that the homework assignments can be used as a\\nstudy aid for the exam. Collaboration on the homework is encouraged, but each student must\\nwrite his/her own solutions and not copy them from anyone else. If you have questions about the\\nhomework, you may email me or see me during my office hours.\\n\\nQUIZZES. '}, 'Mailhot-MATH-1A-23-W19': {'grading': 'Homework and in-class assignments: 10%\\n\\nQuizzes (lowest score dropped): 15%\\n3 Midterms: 15% each\\nFinal Exam: 30%\\n\\nGrade breakdowns are:\\n\\n92.5% and above: A\\n\\n90 — 92.5%: A-\\n87.5 — 90%: Bt\\n82.5 — 87.5%: B\\n80 — 82.5%: B-\\n77.5 — 80%: C+\\n70 — 77.5%: C\\n60 — 70%: D\\nunder 60%: F. of your course grade.. If you are not a member of the Honors Program but think you may be eligible to join, and want to\\ntake this class as an Honors class, please see me.\\n\\nImportant Dates:\\n\\nSaturday, January 19 — Last day to add\\n\\nSunday, January 20 — Last day to drop with no record\\nFriday, March 1 — Last day to drop with a ‘W’\\nThursday, March 21 — Last regular class day\\nTuesday, March 26 — Final Exam (1:45 — 3:45pm)\\n\\x0cStudent Learning Outcome(s):. College Policies:\\ne Students cannot take the same class more than three times for a grade, including W.\\ne Late adds and late drops will not be processed.. Quizzes: | will give pop quizzes in class on a random basis. Calculators are not allowed on quizzes.\\nMake-up quizzes will not be given. Your lowest quiz score will be dropped.. '}, 'Lopez-MATH-1A-25-W19': {'grading': '3 exams 300 pts.\\n5 quizzes 100 pts.\\n1 Final exam 150 pts.\\n\\nTotal: 550 Points\\n\\nYour final grade is determined by the percentage of points you receive\\nout of 550 according the following breakdown:\\n\\n[97,100] : \"At\" [93,97):\"A\" [90,93) :\"A-\" [87,90): \"B+\" [83,87) :\"B\"\\n[80,83) : \"B-\" [77,80) :\"C+\" [70,77):\"C\" [60,70):\"D\" Below 60% : \"F\". of F for the entire course or to drop the student with a W from the course. If a\\nstudent is returned a graded test or quiz and the student changes his or her\\n\\nincorrect answers in order to receive more points, the student is considered\\ncheating and such an act will carry the same consequences as those mentioned\\nabove. If you are caught cheating on the final exam, you will automatically\\nreceive a grade of F for the course.. The final exam has two parts. The first part is 100 points, no calculator, &\\nwork doesn’t need to be shown. The second part is write-out (approx. 5\\nproblems, 50 points, with calculator). Finals must be taken at the\\nscheduled time not before or afterwards (See calendar).\\n\\nYou are expected to be in class every day. If you have 3 recorded\\nabsences, your may be dropped you from the course. However, it is your\\nresponsibility to drop yourself if you wish to drop the course.. The class schedule given above is tentative and subject to change.\\n\\x0cStudent Learning Outcome(s):\\n\\n*Analyze and synthesize the concepts of limits, continuity, and differentiation\\nfrom a graphical, numerical, analytical and verbal approach, using correct\\nnotation and mathematical precision.\\n\\n*Evaluate the behavior of graphs in the context of limits, continuity and\\ndifferentiability.. Calculus-Early Transcendentas, 8\" edition, by James Stewart\\nTI-83, TI-84, or TI-86 graphing calculator, small stapler. Pencils.\\n\\nQuizzes will be given (See calendar). No make-ups. Do not ask. We will\\nhave 6 quizzes altogether of which your lowest score is dropped.\\n\\nHomework is assigned every meeting and is expected to be completed in\\nit\\'s entirety by the next class meeting. Additional homework problems (not\\nin text) may be handed out from time to time and may be collected for\\npoints.. '}, 'Howard-MATH-1A-27-W19': {'grading': \"Grading:\\n\\nHomework: Homework will be assigned after almost every class and it will primarily\\ncome from the textbook (there is no online homework for this class). | will not collect. 60-69% = D.\\n\\nbelow 60% = F.\\n\\nThis grading scale is not set entirely in stone. | may curve the class at the very end of\\nthe course, and letter grades will be determined by a curve at the instructor's discretion.\\nIt depends on how the entire class performs, but the above scale will be a good\\nindication of how you are doing in the course.\\n\\nCourse Description: Fundamentals of Differential Calculus.. and exercise numbers listed on the front page or else points will be deducted. If you turn\\nin the wrong homework assignment, then you will receive a zero for that assignment. It\\nis your responsibility to make sure that you are organized and turn in the correct\\nhomework assignment. The homework will be graded on a scale of 1-10 where 10 isa\\nperfect score. | will be primarily grading the homework on effort and to give you\\nfeedback.. Tests: There will be a total of 4 exams in the class: 3 midterms and 1 final. | do not give\\nmake up exams, with the possible exception of the final exam under extreme\\ncircumstances. In the event that you miss an exam, you will be permitted to replace the\\nzero you received on one midterm exam by your next midterm (or final exam in the\\nevent you miss the third midterm) grade on a percentage equivalent basis. You can use\\na scientific calculator. lf a student is caught cheating, the instructor reserves the right to assign a grade of F\\nfor that exam/quiz or to drop the student with a W from the course. If a student is\\nreturned a graded test or quiz and the student changes his or her incorrect answers in\\norder to receive more points, the student is considered cheating and such an act will\\ncarry the same consequences as those mentioned above. If you are caught cheating on\\nthe final exam, you might receive a grade of F for the course.. \"}, 'Du-MATH-1A-63-W19': {'grading': 'Grading Policy\\n\\nThe course grade will be determined by the following criteria:\\nParticipation/Attendance ...... 5% A = 90% — 100%\\nHomework ...............5. 10% B = 80% —89%\\nQUIZZES 1... 6 eee 10% C = 70% —79%\\nMidterm Exams ............ 45% D = 60% —- 69%\\nFinal Exam ................. 30% F = 0% -59%\\n\\n“The instructor reserves the right to assign plus/minus grades for borderline cases.\\n\\nAttendance Policy. A mandatory comprehensive final exam will be given at the end of the quarter. Students may bring one\\n8.5” x 11” sheet (two sides) of handwritten notes to the final exam. A picture ID is required to take the\\nfinal exam. Any student who misses the final exam will receive a grade of F for the course.\\n\\nGrading Policy. There will be two (2) midterm exams given during the quarter. Students may bring one 3” x 5” index card\\n(two-sides) of handwritten notes to each midterm exam. The lowest midterm exam score will be replaced\\nby the final exam score, if the latter is higher. There will be no make-up midterm exams under any\\ncircumstances.. Homework and Quizzes\\n\\nHomework will be assigned for each lesson and will be due on each exam day. Students are responsible for\\nsolving all the problems assigned, showing all work in a neat and orderly manner. Simply giving answers\\nwithout showing work will receive no credit. Homework will be graded on neatness, completeness, and\\ncorrectness. Late homework will be accepted but will receive a maximum of half credit.. student’s responsibility to officially drop the course. Failure to do so may result in a grade of F for the\\ncourse.. '}, 'Dhaliwal-MATH-1A-67Z-W19': {'grading': \"Quiz problems will be similar to the homework problems but with cosmetic\\nchanges (i.e. numbers, descriptions, names) and questions based on reading\\nof the sections.\\n\\nThe lowest quiz score will be dropped.\\n\\nThere will be three 50-minute exams, with tentative dates listed on the\\nschedule provided.\\n\\nNo makeup exams will be given\\n\\nLowest exam grade will be dropped unless the student is caught cheating on\\nan exam, in which case all exam scores will be used. Attendance Is very important for learning material and staying up to date with\\nlecture.\\n\\nAny student may be dropped after five unexcused (hours) absences.\\n\\nLate arrivals or early absences will count as half an absence.\\n\\x0ce Note: It is the student's responsibility to drop from the course by the deadline.\\nA student who discontinues attending the course without dropping will receive\\nan F grade.\\n\\nGrading:\\n\\nQuizzes: 15%\\n\\nExams (3): 45%\\n\\nFinal: 20%\\n\\nHomework: 10%\\nLabs/Participation: 10%\\nGrade Scale. Homework will be graded on completeness and effort.\\n\\nYou will need to create a pdf of your homework and upload it to canvas.\\nExpect a challenging course requiring about 10 hours work outside of class\\nper week. All questions on homework will be taken, time permitting.\\n\\nQuizzes\\n\\x0cExams:\\n\\nLabs\\n\\nThere will be quizzes given throughout the quarter with.. Note: Online classes, exams are in person. Please look at Discussions\\nsection to find the exam times/locations for the quarter.\\n\\nThere will be labs assigned throughout the quarter that will be completed in\\nclass and within groups.\\n\\nPlease check the canvas groups to see which group you are in.\\n\\nThe lowest lab will be dropped\\n\\nFinal Exam:\\n\\nCheating:. Final Exam:\\n\\nCheating:\\n\\nThere will be one two-hour comprehensive final exam. Missing the final will\\nresult in an F.\\nFinal is multiple choice\\nYou are allowed 1 page of notes 8.5x11 inches, both sides, hand-written, with\\nyour name on the notes.\\n\\no Notes are to be turned in with the final exam.\\n\\nNo tolerance, those caught cheating will be given a O on the assignment and\\nreported to De Anza.\\n\\nAttendance - In person class only, not applicable for the online section.. \"}}\n"
     ]
    }
   ],
   "source": [
    "secondary_data = json.load(open('../data/secondary_data.json'))\n",
    "print(secondary_data)\n"
   ]
  },
  {
   "cell_type": "code",
   "execution_count": 53,
   "metadata": {},
   "outputs": [],
   "source": [
    "secondary_data = {}"
   ]
  },
  {
   "cell_type": "code",
   "execution_count": 54,
   "metadata": {},
   "outputs": [],
   "source": [
    "from gpt4all import Embed4All\n",
    "import numpy as np\n",
    "from sklearn.metrics.pairwise import cosine_similarity\n",
    "\n",
    "# Initialize Embed4All\n",
    "embeddings = Embed4All()\n",
    "\n",
    "# # Define the query string\n",
    "# query = \"your query string\"\n",
    "\n",
    "# # Embed the query\n",
    "# query_vec = embeddings.embed(query)\n",
    "\n",
    "# Iterate over each document\n",
    "for doc_id in range(len(json_data['docs'])):\n",
    "    doc_str = json_data['docs'][doc_id]['content']\n",
    "\n",
    "    text_splitter = RecursiveCharacterTextSplitter(chunk_size=100, chunk_overlap=10)\n",
    "    doc_split = text_splitter.create_documents([doc_str])\n",
    "\n",
    "    # Embed the documents\n",
    "    doc_vecs = np.array([embeddings.embed(sub_doc.page_content) for sub_doc in doc_split])\n",
    "\n",
    "    # Compute cosine similarity scores\n",
    "    scores = cosine_similarity([query_vec], doc_vecs)[0]\n",
    "\n",
    "    # Get top k documents\n",
    "    k = 5\n",
    "    top_docs_indices = np.argsort(-scores)[:k]\n",
    "    top_docs = [doc_split[i] for i in top_docs_indices]\n",
    "\n",
    "    # print(\"title:\", json_data['docs'][doc_id]['title'])\n",
    "    # print(\"matching substrings:\")\n",
    "    final_doc_str = \"\"\n",
    "    for sub_doc in top_docs:\n",
    "        # print(sub_doc.page_content)\n",
    "        final_doc_str += sub_doc.page_content + \". \"\n",
    "    \n",
    "    if json_data['docs'][doc_id]['title'] not in secondary_data:\n",
    "        secondary_data[json_data['docs'][doc_id]['title']] = {}\n",
    "    secondary_data[json_data['docs'][doc_id]['title']][query] = final_doc_str    \n",
    "    # secondary_data[json_data['docs'][doc_id]['title']]['retrieved_content'] = final_doc_str\n",
    "\n",
    "    # print(\"\\n\")"
   ]
  },
  {
   "cell_type": "code",
   "execution_count": 55,
   "metadata": {},
   "outputs": [
    {
     "data": {
      "text/plain": [
       "{'Judson-MATH-1A-01-W19': {'grading policy | marks distribution': 'Grade\\nYour grade will be computed using the following grade distribution.\\n5% Labs 10% Quizzes. 8 Ch. 4.4\\n\\nQuiz 9\\nHw 13 due\\n22 Lab 6due\\n\\n \\n\\x0cLab Grading Policies. will be graded out of 5 points each. You will not know which 4 problems will be graded. For the. Grading Scale\\n\\nDue to the complexity of the material the grading scale we will use is as follows. General Grading: Each lab member is required to turn in their own lab report. Failure to turn in a. '},\n",
       " 'Lien-MATH-1A-05-W19': {'grading policy | marks distribution': 'Final grades are non-negotiable. You should monitor your scores in the gradebook regularly. QUESTION: What is my current grade in the class?. Breakdown of grades:\\nHomework\\n63-879% «BO\\n\\n80-82.9% «|B\\n63-679% «(DS\\n60-62.9% «(| D-. marks incorrectly. Problems must be brought to my attention immediately after exams are returned.. - You are required to come to class prepared WITH lecture notes printed out.\\n\\nGRADING. '},\n",
       " 'Howard-MATH-1A-07-W19': {'grading policy | marks distribution': \"Grading:. the course, and letter grades will be determined by a curve at the instructor's discretion.. This grading scale is not set entirely in stone. | may curve the class at the very end of. event you miss the third midterm) grade on a percentage equivalent basis. You can use. Policies for This Class: These policies are part of the syllabus and will be strictly. \"},\n",
       " 'Mailhot-MATH-1A-09-W19': {'grading policy | marks distribution': 'Grading: Your grade in this course will be based on homework, in-class assignments, quizzes,. Quizzes (lowest score dropped): 15%\\n3 Midterms: 15% each\\nFinal Exam: 30%\\n\\nGrade breakdowns are:. Homework and in-class assignments: 10%. zero points on that quiz or exam, and will be reported to the Office of Student Development. The. designation for this class on your transcript. Once you commit to the Honors portion, you will be. '},\n",
       " 'Nay-MATH-1A-11-W19': {'grading policy | marks distribution': 'GRADING\\n\\nBreakdown of Grade\\nHomework (6)\\nQuizzes (10). Grading Scale\\n100-99.0% A\\n93.0-98.9%\\n90.0-92.9%\\n88.0-89.9%\\n83.0-87.9%. overall grade of a 70% (C) or greater in order to request for an incomplete grade.. Final grades are non-negotiable. You should monitor your scores regularly throughout the. Quizzes will be graded and returned by the next class session.. '},\n",
       " 'Mailhot-MATH-1A-23-W19': {'grading policy | marks distribution': 'Grading: Your grade in this course will be based on homework, in-class assignments, quizzes,. Quizzes (lowest score dropped): 15%\\n3 Midterms: 15% each\\nFinal Exam: 30%\\n\\nGrade breakdowns are:. Homework and in-class assignments: 10%. zero points on that quiz or exam, and will be reported to the Office of Student Development. The. designation for this class on your transcript. Once you commit to the Honors portion, you will be. '},\n",
       " 'Lopez-MATH-1A-25-W19': {'grading policy | marks distribution': 'Your final grade is determined by the percentage of points you receive. on a midterm or quiz, you will receive a grade of O on that assignment and be. student is returned a graded test or quiz and the student changes his or her. deducted as a penalty. Only 1 make-up exam is allowed per quarter.. receive a grade of F for the course.. '},\n",
       " 'Howard-MATH-1A-27-W19': {'grading policy | marks distribution': \"Grading:. the course, and letter grades will be determined by a curve at the instructor's discretion.. This grading scale is not set entirely in stone. | may curve the class at the very end of. event you miss the third midterm) grade on a percentage equivalent basis. You can use. Policies for This Class: These policies are part of the syllabus and will be strictly. \"},\n",
       " 'Du-MATH-1A-63-W19': {'grading policy | marks distribution': 'Grading Policy. The course grade will be determined by the following criteria:. “The instructor reserves the right to assign plus/minus grades for borderline cases.. final exam. Any student who misses the final exam will receive a grade of F for the course.. and may result in receiving a zero on the exam or an F for the course and being reported to the. '},\n",
       " 'Dhaliwal-MATH-1A-67Z-W19': {'grading policy | marks distribution': 'Grading:\\n\\nQuizzes: 15%\\n\\nExams (3): 45%\\n\\nFinal: 20%. an exam, in which case all exam scores will be used. A 90-100 %\\nB 80-89 %\\nC 70-79 %\\nD 50-69%\\nF 0-49 %\\n\\nStudent Services:. Lowest exam grade will be dropped unless the student is caught cheating on. Requirements: Textbook, Binder, Calculator No TI-89 will be allowed.\\nGrading. '}}"
      ]
     },
     "execution_count": 55,
     "metadata": {},
     "output_type": "execute_result"
    }
   ],
   "source": [
    "secondary_data"
   ]
  },
  {
   "cell_type": "code",
   "execution_count": 56,
   "metadata": {},
   "outputs": [],
   "source": [
    "with open('../data/secondary_data.json', 'w') as outfile:\n",
    "    json.dump(secondary_data, outfile, indent=4)"
   ]
  },
  {
   "cell_type": "markdown",
   "metadata": {},
   "source": [
    "## Generation"
   ]
  },
  {
   "cell_type": "code",
   "execution_count": 24,
   "metadata": {},
   "outputs": [],
   "source": [
    "from langchain_community.llms import Ollama"
   ]
  },
  {
   "cell_type": "code",
   "execution_count": 25,
   "metadata": {},
   "outputs": [],
   "source": [
    "llm = Ollama(model=\"phi3\")"
   ]
  },
  {
   "cell_type": "code",
   "execution_count": 27,
   "metadata": {},
   "outputs": [],
   "source": [
    "# llm.invoke(\"Tell me a joke\")"
   ]
  },
  {
   "cell_type": "code",
   "execution_count": 57,
   "metadata": {},
   "outputs": [
    {
     "name": "stdout",
     "output_type": "stream",
     "text": [
      "{'Judson-MATH-1A-01-W19': {'grading policy | marks distribution': 'Grade\\nYour grade will be computed using the following grade distribution.\\n5% Labs 10% Quizzes. 8 Ch. 4.4\\n\\nQuiz 9\\nHw 13 due\\n22 Lab 6due\\n\\n \\n\\x0cLab Grading Policies. will be graded out of 5 points each. You will not know which 4 problems will be graded. For the. Grading Scale\\n\\nDue to the complexity of the material the grading scale we will use is as follows. General Grading: Each lab member is required to turn in their own lab report. Failure to turn in a. '}, 'Lien-MATH-1A-05-W19': {'grading policy | marks distribution': 'Final grades are non-negotiable. You should monitor your scores in the gradebook regularly. QUESTION: What is my current grade in the class?. Breakdown of grades:\\nHomework\\n63-879% «BO\\n\\n80-82.9% «|B\\n63-679% «(DS\\n60-62.9% «(| D-. marks incorrectly. Problems must be brought to my attention immediately after exams are returned.. - You are required to come to class prepared WITH lecture notes printed out.\\n\\nGRADING. '}, 'Howard-MATH-1A-07-W19': {'grading policy | marks distribution': \"Grading:. the course, and letter grades will be determined by a curve at the instructor's discretion.. This grading scale is not set entirely in stone. | may curve the class at the very end of. event you miss the third midterm) grade on a percentage equivalent basis. You can use. Policies for This Class: These policies are part of the syllabus and will be strictly. \"}, 'Mailhot-MATH-1A-09-W19': {'grading policy | marks distribution': 'Grading: Your grade in this course will be based on homework, in-class assignments, quizzes,. Quizzes (lowest score dropped): 15%\\n3 Midterms: 15% each\\nFinal Exam: 30%\\n\\nGrade breakdowns are:. Homework and in-class assignments: 10%. zero points on that quiz or exam, and will be reported to the Office of Student Development. The. designation for this class on your transcript. Once you commit to the Honors portion, you will be. '}, 'Nay-MATH-1A-11-W19': {'grading policy | marks distribution': 'GRADING\\n\\nBreakdown of Grade\\nHomework (6)\\nQuizzes (10). Grading Scale\\n100-99.0% A\\n93.0-98.9%\\n90.0-92.9%\\n88.0-89.9%\\n83.0-87.9%. overall grade of a 70% (C) or greater in order to request for an incomplete grade.. Final grades are non-negotiable. You should monitor your scores regularly throughout the. Quizzes will be graded and returned by the next class session.. '}, 'Mailhot-MATH-1A-23-W19': {'grading policy | marks distribution': 'Grading: Your grade in this course will be based on homework, in-class assignments, quizzes,. Quizzes (lowest score dropped): 15%\\n3 Midterms: 15% each\\nFinal Exam: 30%\\n\\nGrade breakdowns are:. Homework and in-class assignments: 10%. zero points on that quiz or exam, and will be reported to the Office of Student Development. The. designation for this class on your transcript. Once you commit to the Honors portion, you will be. '}, 'Lopez-MATH-1A-25-W19': {'grading policy | marks distribution': 'Your final grade is determined by the percentage of points you receive. on a midterm or quiz, you will receive a grade of O on that assignment and be. student is returned a graded test or quiz and the student changes his or her. deducted as a penalty. Only 1 make-up exam is allowed per quarter.. receive a grade of F for the course.. '}, 'Howard-MATH-1A-27-W19': {'grading policy | marks distribution': \"Grading:. the course, and letter grades will be determined by a curve at the instructor's discretion.. This grading scale is not set entirely in stone. | may curve the class at the very end of. event you miss the third midterm) grade on a percentage equivalent basis. You can use. Policies for This Class: These policies are part of the syllabus and will be strictly. \"}, 'Du-MATH-1A-63-W19': {'grading policy | marks distribution': 'Grading Policy. The course grade will be determined by the following criteria:. “The instructor reserves the right to assign plus/minus grades for borderline cases.. final exam. Any student who misses the final exam will receive a grade of F for the course.. and may result in receiving a zero on the exam or an F for the course and being reported to the. '}, 'Dhaliwal-MATH-1A-67Z-W19': {'grading policy | marks distribution': 'Grading:\\n\\nQuizzes: 15%\\n\\nExams (3): 45%\\n\\nFinal: 20%. an exam, in which case all exam scores will be used. A 90-100 %\\nB 80-89 %\\nC 70-79 %\\nD 50-69%\\nF 0-49 %\\n\\nStudent Services:. Lowest exam grade will be dropped unless the student is caught cheating on. Requirements: Textbook, Binder, Calculator No TI-89 will be allowed.\\nGrading. '}}\n"
     ]
    }
   ],
   "source": [
    "retrieved_data = \"\"\n",
    "secondary_data = json.load(open('../data/secondary_data.json'))\n",
    "print(secondary_data)\n"
   ]
  },
  {
   "cell_type": "code",
   "execution_count": 58,
   "metadata": {},
   "outputs": [
    {
     "name": "stdout",
     "output_type": "stream",
     "text": [
      "Judson-MATH-1A-01-W19\n",
      "Lien-MATH-1A-05-W19\n",
      "Howard-MATH-1A-07-W19\n",
      "Mailhot-MATH-1A-09-W19\n",
      "Nay-MATH-1A-11-W19\n",
      "Mailhot-MATH-1A-23-W19\n",
      "Lopez-MATH-1A-25-W19\n",
      "Howard-MATH-1A-27-W19\n",
      "Du-MATH-1A-63-W19\n",
      "Dhaliwal-MATH-1A-67Z-W19\n"
     ]
    }
   ],
   "source": [
    "for course in secondary_data:\n",
    "    print(course)\n",
    "    retrieved_data += course + \" :\\n \"+ secondary_data[course][\"grading policy | marks distribution\"] + \"\\n\\n\""
   ]
  },
  {
   "cell_type": "code",
   "execution_count": 59,
   "metadata": {},
   "outputs": [
    {
     "name": "stdout",
     "output_type": "stream",
     "text": [
      "Judson-MATH-1A-01-W19 :\n",
      " Grade\n",
      "Your grade will be computed using the following grade distribution.\n",
      "5% Labs 10% Quizzes. 8 Ch. 4.4\n",
      "\n",
      "Quiz 9\n",
      "Hw 13 due\n",
      "22 Lab 6due\n",
      "\n",
      " \n",
      "\fLab Grading Policies. will be graded out of 5 points each. You will not know which 4 problems will be graded. For the. Grading Scale\n",
      "\n",
      "Due to the complexity of the material the grading scale we will use is as follows. General Grading: Each lab member is required to turn in their own lab report. Failure to turn in a. \n",
      "\n",
      "Lien-MATH-1A-05-W19 :\n",
      " Final grades are non-negotiable. You should monitor your scores in the gradebook regularly. QUESTION: What is my current grade in the class?. Breakdown of grades:\n",
      "Homework\n",
      "63-879% «BO\n",
      "\n",
      "80-82.9% «|B\n",
      "63-679% «(DS\n",
      "60-62.9% «(| D-. marks incorrectly. Problems must be brought to my attention immediately after exams are returned.. - You are required to come to class prepared WITH lecture notes printed out.\n",
      "\n",
      "GRADING. \n",
      "\n",
      "Howard-MATH-1A-07-W19 :\n",
      " Grading:. the course, and letter grades will be determined by a curve at the instructor's discretion.. This grading scale is not set entirely in stone. | may curve the class at the very end of. event you miss the third midterm) grade on a percentage equivalent basis. You can use. Policies for This Class: These policies are part of the syllabus and will be strictly. \n",
      "\n",
      "Mailhot-MATH-1A-09-W19 :\n",
      " Grading: Your grade in this course will be based on homework, in-class assignments, quizzes,. Quizzes (lowest score dropped): 15%\n",
      "3 Midterms: 15% each\n",
      "Final Exam: 30%\n",
      "\n",
      "Grade breakdowns are:. Homework and in-class assignments: 10%. zero points on that quiz or exam, and will be reported to the Office of Student Development. The. designation for this class on your transcript. Once you commit to the Honors portion, you will be. \n",
      "\n",
      "Nay-MATH-1A-11-W19 :\n",
      " GRADING\n",
      "\n",
      "Breakdown of Grade\n",
      "Homework (6)\n",
      "Quizzes (10). Grading Scale\n",
      "100-99.0% A\n",
      "93.0-98.9%\n",
      "90.0-92.9%\n",
      "88.0-89.9%\n",
      "83.0-87.9%. overall grade of a 70% (C) or greater in order to request for an incomplete grade.. Final grades are non-negotiable. You should monitor your scores regularly throughout the. Quizzes will be graded and returned by the next class session.. \n",
      "\n",
      "Mailhot-MATH-1A-23-W19 :\n",
      " Grading: Your grade in this course will be based on homework, in-class assignments, quizzes,. Quizzes (lowest score dropped): 15%\n",
      "3 Midterms: 15% each\n",
      "Final Exam: 30%\n",
      "\n",
      "Grade breakdowns are:. Homework and in-class assignments: 10%. zero points on that quiz or exam, and will be reported to the Office of Student Development. The. designation for this class on your transcript. Once you commit to the Honors portion, you will be. \n",
      "\n",
      "Lopez-MATH-1A-25-W19 :\n",
      " Your final grade is determined by the percentage of points you receive. on a midterm or quiz, you will receive a grade of O on that assignment and be. student is returned a graded test or quiz and the student changes his or her. deducted as a penalty. Only 1 make-up exam is allowed per quarter.. receive a grade of F for the course.. \n",
      "\n",
      "Howard-MATH-1A-27-W19 :\n",
      " Grading:. the course, and letter grades will be determined by a curve at the instructor's discretion.. This grading scale is not set entirely in stone. | may curve the class at the very end of. event you miss the third midterm) grade on a percentage equivalent basis. You can use. Policies for This Class: These policies are part of the syllabus and will be strictly. \n",
      "\n",
      "Du-MATH-1A-63-W19 :\n",
      " Grading Policy. The course grade will be determined by the following criteria:. “The instructor reserves the right to assign plus/minus grades for borderline cases.. final exam. Any student who misses the final exam will receive a grade of F for the course.. and may result in receiving a zero on the exam or an F for the course and being reported to the. \n",
      "\n",
      "Dhaliwal-MATH-1A-67Z-W19 :\n",
      " Grading:\n",
      "\n",
      "Quizzes: 15%\n",
      "\n",
      "Exams (3): 45%\n",
      "\n",
      "Final: 20%. an exam, in which case all exam scores will be used. A 90-100 %\n",
      "B 80-89 %\n",
      "C 70-79 %\n",
      "D 50-69%\n",
      "F 0-49 %\n",
      "\n",
      "Student Services:. Lowest exam grade will be dropped unless the student is caught cheating on. Requirements: Textbook, Binder, Calculator No TI-89 will be allowed.\n",
      "Grading. \n",
      "\n",
      "\n"
     ]
    }
   ],
   "source": [
    "print(retrieved_data)"
   ]
  },
  {
   "cell_type": "code",
   "execution_count": 23,
   "metadata": {},
   "outputs": [],
   "source": [
    "from langchain_core.output_parsers import StrOutputParser\n",
    "from langchain_core.prompts import PromptTemplate"
   ]
  },
  {
   "cell_type": "code",
   "execution_count": 68,
   "metadata": {},
   "outputs": [],
   "source": [
    "prompt = \"Analyse the grading policies from the following retrieved docs of various courses. Summarize the information under 1 sentence. Be very concise with your answer and to the point.\" + retrieved_data"
   ]
  },
  {
   "cell_type": "code",
   "execution_count": 69,
   "metadata": {},
   "outputs": [
    {
     "data": {
      "text/plain": [
       "\"Judson-MATH-1A-01-W19 grading includes lab work (5%), quizzes (10%), and chapter 4 assignments (8%). Howard-MATH-1A-27-W19 employs a curve set at the instructor's discretion, with potential adjustments after key exams. Lopez-MATH-1A-25-W19 has strict penalties for incorrect answers or changes in grades post assessment submissions. Dhaliwal-MATH-1A-67Z-W19 utilizes a weighted grading system of 15% quizzes, 45% exams (3), and 20% final exam with no grade drops.<|end|><|endoftext|>\""
      ]
     },
     "execution_count": 69,
     "metadata": {},
     "output_type": "execute_result"
    }
   ],
   "source": [
    "llm.invoke(prompt)"
   ]
  },
  {
   "cell_type": "code",
   "execution_count": null,
   "metadata": {},
   "outputs": [],
   "source": []
  }
 ],
 "metadata": {
  "kernelspec": {
   "display_name": "venv",
   "language": "python",
   "name": "python3"
  },
  "language_info": {
   "codemirror_mode": {
    "name": "ipython",
    "version": 3
   },
   "file_extension": ".py",
   "mimetype": "text/x-python",
   "name": "python",
   "nbconvert_exporter": "python",
   "pygments_lexer": "ipython3",
   "version": "3.12.3"
  }
 },
 "nbformat": 4,
 "nbformat_minor": 2
}
