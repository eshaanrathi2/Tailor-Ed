{
 "cells": [
  {
   "cell_type": "code",
   "execution_count": 16,
   "metadata": {},
   "outputs": [],
   "source": [
    "question = \"teacher professor\""
   ]
  },
  {
   "cell_type": "code",
   "execution_count": 2,
   "metadata": {},
   "outputs": [],
   "source": [
    "from langchain_community.document_loaders import JSONLoader\n",
    "from langchain_text_splitters import RecursiveCharacterTextSplitter\n",
    "from langchain_community.embeddings import GPT4AllEmbeddings\n",
    "from langchain_community.vectorstores import Chroma"
   ]
  },
  {
   "cell_type": "code",
   "execution_count": 3,
   "metadata": {},
   "outputs": [],
   "source": [
    "import json\n",
    "from pathlib import Path\n",
    "from pprint import pprint"
   ]
  },
  {
   "cell_type": "code",
   "execution_count": 4,
   "metadata": {},
   "outputs": [],
   "source": [
    "file_path='data/test.json'"
   ]
  },
  {
   "cell_type": "code",
   "execution_count": 5,
   "metadata": {},
   "outputs": [],
   "source": [
    "json_data = json.loads(Path(file_path).read_text())"
   ]
  },
  {
   "cell_type": "code",
   "execution_count": 6,
   "metadata": {},
   "outputs": [
    {
     "data": {
      "text/plain": [
       "10"
      ]
     },
     "execution_count": 6,
     "metadata": {},
     "output_type": "execute_result"
    }
   ],
   "source": [
    "len(json_data['docs'])"
   ]
  },
  {
   "cell_type": "code",
   "execution_count": 23,
   "metadata": {},
   "outputs": [
    {
     "name": "stdout",
     "output_type": "stream",
     "text": [
      "Original Data:\n",
      " [Document(page_content=\"SYLLABUS FOR MATH 1a, CALCULUS |: WINTER 2019\\nMath-001a-07, CRN: 34996\\n\\nInstructor: Dr. Wyatt Howard\\n\\nEmail: howardwyatt@fhda.edu\\n\\nClass Hours: Monday-Friday from 10:30A.M.-11:20A.M. in L61.\\n\\nOffice Hours: Mondays from 4:00P.M.-5:00P.M. and Tuesdays-Thursdays from\\n12:00P.M.-1:00P.M. in S76g.\\n\\nTextbook: Calculus, Early Transcendentals, 8th Ed. by James Stewart. We will plan on\\ncovering Chapters 2-4 .\\n\\nGrading:\\n\\nHomework: Homework will be assigned after almost every class and it will primarily\\ncome from the textbook (there is no online homework for this class). | will not collect\\n\\nall of your homework and grade each assignment. However, on exam days you need to\\nbring all of your homework with you to class. | will collect one assignment on exam\\ndays. Before you take the exam, | will pick one of these assignments at random and\\nyou will turn it in when you are finished with your exam. | will not accept late homework.\\nMake sure your homework is stapled, has the assignment number on the front page,\\nand exercise numbers listed on the front page or else points will be deducted. If you turn\\nin the wrong homework assignment, then you will receive a zero for that assignment. It\\nis your responsibility to make sure that you are organized and turn in the correct\\nhomework assignment. The homework will be graded on a scale of 1-10 where 10 isa\\nperfect score. | will be primarily grading the homework on effort and to give you\\nfeedback.\\n\\nBoard Quizzes: There will be 4 quizzes in this class. | do not allow make up quizzes.\\n\\nIn the calendar below, | have included the tentative dates of the quizzes. The quizzes\\nwill be done on the board in groups of at most three people. During the first and second\\nweek of class, | will discuss the details of how these board quizzes will be conducted.\\nThere will also be a quiz at the end of the first week of class testing your knowledge of\\nMath 41 and Math 42 concepts that will not be a board quiz.\\n\\nTests: There will be a total of 4 exams in the class: 3 midterms and 1 final. | do not give\\nmake up exams, with the possible exception of the final exam under extreme\\ncircumstances. In the event that you miss an exam, you will be permitted to replace the\\nzero you received on one midterm exam by your next midterm (or final exam in the\\nevent you miss the third midterm) grade on a percentage equivalent basis. You can use\\na scientific calculator\\n\\nfor the exams. You are not allowed to use a graphing calculator. The final exam will be\\ncumulative.\\n\\x0cTentative Dates for Midterms: Midterm 1: Monday, January 28th, Midterm 2:\\nWednesday, February 20th, Midterm 3: Monday, March 11th.\\n\\nFinal Exam: The date of the final is exam is on Thursday, March 28th from 9:15A.M.-\\n11:15A.M. The date of the final exam is set in stone and will not be changed.\\n\\nClass Participation and Academic Etiquette: You will be given 10 points for\\nparticipation and academic etiquette for this course. These 10 points make up 3% of\\nyour overall grade. Students will lose half a point for a tardy (late by 5 or more minutes\\nafter class begins) or for leaving 5 or more minutes before class is excused. If you have\\na valid excuse for why you are unable to arrive on time to class or need to leave early,\\nthen you need to email me and state the reason for why you were late or left early. | will\\ndecide if your reason is considered excused or not. Cell phones, computers, and any\\nother electronic devices are not allowed during class. If you are using one of these\\ndevices during class, then you will lose one point for each time that | see you using\\nthese devices. Disruptive behavior will not be tolerated, as well. If you are being\\ndisruptive and talking to another student during class, then you will lose a point for each\\nincident.\\n\\nAttendance: You are expected to be in class every day. If you have more than 10\\nrecorded absences, you may be dropped from the course. However, it is your\\nresponsibility\\n\\nto drop yourself in the event that you want to drop the class.\\n\\nClass Participation and Academic Etiquette 3%\\nQuizzes 10%\\n\\nMidterm 1 17%\\n\\nMidterm 2 20%\\n\\nMidterm 3 20%\\n\\nFinal 30%\\n\\nGrade Breakdown:\\n90- 100% = A-, A, At.\\n80-89% = B-, B, Bt.\\n70-79% = C.\\n\\n60-69% = D.\\n\\nbelow 60% = F.\\n\\nThis grading scale is not set entirely in stone. | may curve the class at the very end of\\nthe course, and letter grades will be determined by a curve at the instructor's discretion.\\nIt depends on how the entire class performs, but the above scale will be a good\\nindication of how you are doing in the course.\\n\\nCourse Description: Fundamentals of Differential Calculus.\\n\\nPrerequisites: Completion of Math 43 with a grade of C, or equivalent; qualifying score\\non Placement Test within the past calendar year.\\n\\x0cAttendance: You are expected to be in class every day. If you have more than 6\\nrecorded absences, you may be dropped from the course. However, it is your\\nresponsibility to drop yourself in the event that you want to drop the class.\\n\\nWarm-Up Exercises: Warm-up exercises will be given a few days a week. This will\\nconsist of 1-3 exercises that | will post on the board and have you work on either by\\nyourself or in groups when you enter class. After the first few minutes | will walk around\\nthe class to observe how everyone Is tackling the exercises and to provide help. These\\nproblems are intended to help warm-up your mind for the lecture that day. Please take\\nthem seriously.\\n\\nBlue Books: Each student is required to purchase 3 small blue books and 1 large blue\\nbook and turn them in to me during the first two weeks of class. | will talk more about\\nthis on the first day of class.\\n\\nFree Tutoring: The Math Tutoring Center in Room S43 offers free tutoring on Mondays-\\nThursdays from 9 : OOA.M.-5 : 30P.M. | strongly encourage you to utilize this resource.\\nMore information can be found here:\\n\\nhttp://www.deanza.edu/studentsuccess/mstrc/\\n\\nDisability Support Services: If you need to contact the Disability Support Services,\\nthen please contact them as soon as possible. More information can be found here:\\n\\nhttps://www.deanza.edu/dss/\\n\\nAcademic Integrity: This is pretty straightforward: Do not cheat on quizzes, exams,\\n\\nor directly copy other student's work. It is not worth getting caught and suffering the\\nconsequences. For more information about De Anza College's policy on academic\\n\\nintegrity:\\n\\nhttps://www.deanza.edu/studenthandbook/academic-integrity.html\\n\\nPolicies for This Class: These policies are part of the syllabus and will be strictly\\nenforced. By enrolling in this course, you as the student agree to accept these policies\\nand follow them and agree that the instructor reserves the right to drop a student from\\nthe course with a W if any of the policies are violated. Further action may also be\\ntaken against a student who violates specific policies, such as the policy on cheating.\\n\\nCell phone use (talking on your phone, texting, etc.) during lecture is not allowed. This\\nis considered to be rude behavior and tells me that you are not paying attention in class.\\nIf you are using your phone, then you will be warned once to stop. If it happens again,\\nthen you may be asked to leave the class and you will not be allowed back into the\\nclass until you emailed the instructor or talked to him before the next class meeting.\\n\\nlf you have an emergency and need to use your cell phone, then you are free to excuse\\nyourself from class to deal with the situation.\\n\\x0cTalking during class is also not allowed. This is also considered to be rude behavior,\\nand it is distracting to the professor. If you are being disruptive and talking to another\\nstudent during class, then | reserve the right to move you to the front of the classroom\\nor | may ask you to leave the class and you will not be allowed back until the class until\\nyou have emailed the instructor.\\n\\nTests must be completed by the time class time ends. You will receive a two minute\\nwarning before your time is fully up. When time is over, you must put down your writing\\nutensil and stop writing immediately. If you do not stop writing immediately, your test\\nmay not be collected and you may receive a grade of zero. Also, during exams\\neverything must be off of your desk and either in your backpack (or under your seat if\\nyou do not have a backpack). If the instructor sees any phones, paper, notebooks,\\ntextbooks, etc. out during an exam, then it will be considered cheating and the student\\nwill receive a zero for that exam. If the instructor observes a student placing his or her\\nhands beneath his or her desk for an extended period of time, the instructor may ask\\nthat student to stand up or move to another desk. If a student is observed with a cell\\nphone in his or her hands, lap, or other easily accessible place after the student has\\nreceived his or her test, that student will be considered cheating and will receive a zero\\non that test.\\n\\nlf a student is caught cheating, the instructor reserves the right to assign a grade of F\\nfor that exam/quiz or to drop the student with a W from the course. If a student is\\nreturned a graded test or quiz and the student changes his or her incorrect answers in\\norder to receive more points, the student is considered cheating and such an act will\\ncarry the same consequences as those mentioned above. If you are caught cheating on\\nthe final exam, you might receive a grade of F for the course.\\n\\x0cStudent Learning Outcome(s):\\n\\n* Analyze and synthesize the concepts of limits, continuity, and differentiation from a graphical,\\nnumerical, analytical and verbal approach, using correct notation and mathematical precision.\\n*Evaluate the behavior of graphs in the context of limits, continuity and differentiability.\\n*Recognize, diagnose, and decide on the appropriate method for solving applied real world\\nproblems in optimization, related rates and numerical approximation.\\n\\x0c\", metadata={'source': '/Users/eshaan/Desktop/projects/Tailor-Ed/data/test.json', 'seq_num': 1})]\n",
      "Retrieved data based on query:\n",
      " [Document(page_content='ATTENDANCE\\n\\nIt is essential that you participate and regularly ask questions in order to succeed in this course and your future\\nmath courses. Therefore, attendance is required and students are expected to attend all sessions of each class.\\nAttendance may be taken at any point during the class (beginning, middle, or end). If you use your\\nphone/tablet/laptop or any unrelated material, I may ask you to leave and that day will count as an absence.', metadata={'seq_num': 1, 'source': '/Users/eshaan/Desktop/projects/Tailor-Ed/data/test.json'})]\n",
      "\n",
      "\n"
     ]
    }
   ],
   "source": [
    "for doc_id in range(len(json_data['docs'])):\n",
    "    doc_str = json_data['docs'][doc_id]['content']\n",
    "\n",
    "    text_splitter = RecursiveCharacterTextSplitter(chunk_size=500, chunk_overlap=50)\n",
    "    doc_split = text_splitter.create_documents([doc_str])\n",
    "\n",
    "    # Embed the documents\n",
    "    doc_vecs = np.array([embeddings.embed(sub_doc.page_content) for sub_doc in doc_split])\n",
    "\n",
    "    # Compute scores\n",
    "    scores = query_vec @ doc_vecs.T\n",
    "\n",
    "    # Get top k documents\n",
    "    k = 2\n",
    "    top_docs_indices = np.argsort(-scores)[:k]\n",
    "    top_docs = [doc_split[i] for i in top_docs_indices]\n",
    "\n",
    "    print(\"title:\", json_data['docs'][doc_id]['title'])\n",
    "    print(\"matching substrings:\")\n",
    "    for sub_doc in top_docs:\n",
    "        print(sub_doc)\n",
    "    print(\"\\n\")"
   ]
  },
  {
   "cell_type": "code",
   "execution_count": null,
   "metadata": {},
   "outputs": [],
   "source": []
  },
  {
   "cell_type": "code",
   "execution_count": null,
   "metadata": {},
   "outputs": [],
   "source": []
  },
  {
   "cell_type": "code",
   "execution_count": 17,
   "metadata": {},
   "outputs": [],
   "source": [
    "from gpt4all import Embed4All\n",
    "import numpy as np\n",
    "\n",
    "# Initialize Embed4All\n",
    "embeddings = Embed4All()\n",
    "\n",
    "query_vec = embeddings.embed(question)"
   ]
  },
  {
   "cell_type": "code",
   "execution_count": 18,
   "metadata": {},
   "outputs": [
    {
     "name": "stdout",
     "output_type": "stream",
     "text": [
      "title: Judson-MATH-1A-01-W19\n",
      "matching substrings:\n",
      "page_content='The labs we will cover in this class serve two purposes, they allow us to dig deeper into the fertile soil of\\nthe Calculus and they provide us the opportunity to develop our co-operative skills. Most of you, at some\\npoint after you transfer will take a class where a single group project might be worth as much as one of\\nyour midterms. It can be difficult to rely on others for such a large part of your grade. To ease you into'\n",
      "page_content='MATH 1A SECTION 1 CRN 31484 WINTER 2019\\n\\nInstructor: Dr. Zack Judson Office: E36B\\n\\nOffice Hours: MWF 9:30-10:20 TTh 12:30-1:20\\n\\nEmail: judsonzack@deanza.edu (Note: I will not answer Math questions over email)\\nPrerequisite: Math 43 or an equivalent course\\n\\nRequired Materials\\n\\n1) “Calculus Early Transcendentals, 8\" Edition” by James Stewart'\n",
      "\n",
      "\n",
      "title: Lien-MATH-1A-05-W19\n",
      "matching substrings:\n",
      "page_content='I will be using email and Canvas to communicate with you outside of classroom time. Canvas is accessible to\\nall students enrolled in the course (https://deanza.instructure.com/) using the MyPortal login credentials. You\\nneed check your email on a regular basis as I will send out homework, exam dates, and study reminders. All\\nclass handouts, skeleton lecture notes, quiz/midterm solutions, etc. will be uploaded onto Canvas. If you miss'\n",
      "page_content='- Keep your cell phones on silent and hidden.\\n\\n- To promote a safe and positive learning environment, you are to be respectful to me and to your\\nclassmates. Please do not talk during lecture. If you have a question, raise your hand.\\n\\n- Your full attention and participation is expected.\\n\\n- You are required to come to class prepared WITH lecture notes printed out.\\n\\nGRADING'\n",
      "\n",
      "\n",
      "title: Howard-MATH-1A-07-W19\n",
      "matching substrings:\n",
      "page_content='lf you have an emergency and need to use your cell phone, then you are free to excuse\\nyourself from class to deal with the situation.\\n\\x0cTalking during class is also not allowed. This is also considered to be rude behavior,\\nand it is distracting to the professor. If you are being disruptive and talking to another\\nstudent during class, then | reserve the right to move you to the front of the classroom\\nor | may ask you to leave the class and you will not be allowed back until the class until'\n",
      "page_content='you have emailed the instructor.'\n",
      "\n",
      "\n",
      "title: Mailhot-MATH-1A-09-W19\n",
      "matching substrings:\n",
      "page_content='Math 1A.09\\n\\nCalculus\\nDe Anza College\\nWinter 2019\\n\\nInstructor: Dr. Jim Mailhot (pronounced MY-it)\\nClassroom: E36\\n\\nMeeting Times: MTWTHF 11:30am — 12:20pm\\n\\ne-Mail: mailhotjames@fhda.edu\\n\\nOffice: E35b\\n\\nOffice Hours: MTWTh 4:00 — 4:50pm, or by appointment'\n",
      "page_content='of your course grade.'\n",
      "\n",
      "\n",
      "title: Nay-MATH-1A-11-W19\n",
      "matching substrings:\n",
      "page_content='e Communication. Please do not talk during lecture or when other students are addressing the\\nclass. If you have a question, then raise your hand.\\n\\ne Digital Media. Keep your cell phones on silent and out of sight. With the exception of\\ngraphing calculators, the use of electronic devices during the lecture is generally not\\nallowed. Unapproved use of an electronic device could result in you being asked to leave\\nthe classroom.\\n\\x0cMATH-1A-11-W19 Syllabus\\n\\nTUTORING'\n",
      "page_content='COMMUNICATION\\n\\nI will be using email to communicate with you outside of classroom time so you should check\\nyour email on a regular basis. I expect that if you will miss a class lecture, then you will email\\nme letting me know that you will be absent along with a reason for your absence. If you need to\\ncontact me for routine matters, please use my email. If you need to contact me for more urgent\\nmatters, please call or text my phone.\\n\\nATTENDANCE'\n",
      "\n",
      "\n",
      "title: Mailhot-MATH-1A-23-W19\n",
      "matching substrings:\n",
      "page_content='Math 1A.23\\n\\nCalculus\\nDe Anza College\\nWinter 2019\\n\\nInstructor: Dr. Jim Mailhot (pronounced MY-it)\\nClassroom: E36\\n\\nMeeting Times: TTh 1:30 — 3:45pm\\n\\ne-Mail: mailhotjames@fhda.edu\\n\\nOffice: E35b\\n\\nOffice Hours: MTWTh 4:00 — 4:50pm, or by appointment'\n",
      "page_content='of your course grade.'\n",
      "\n",
      "\n",
      "title: Lopez-MATH-1A-25-W19\n",
      "matching substrings:\n",
      "page_content='d. The student wishes to discuss study skills, note taking skills, or anything\\nthat might enhance the performance of the student in the class.\\n\\nReasons not intended for office hours:\\n\\na. To ask the instructor to “do” a homework problem for them or to “do” a\\nproblem similar to the homework that wasn’t assigned.\\n\\nb. To consider the instructor to be an individual “tutor” to a student while he/she\\ncompletes their homework.'\n",
      "page_content='The class schedule given above is tentative and subject to change.\\n\\x0cStudent Learning Outcome(s):\\n\\n*Analyze and synthesize the concepts of limits, continuity, and differentiation\\nfrom a graphical, numerical, analytical and verbal approach, using correct\\nnotation and mathematical precision.\\n\\n*Evaluate the behavior of graphs in the context of limits, continuity and\\ndifferentiability.'\n",
      "\n",
      "\n",
      "title: Howard-MATH-1A-27-W19\n",
      "matching substrings:\n",
      "page_content='lf you have an emergency and need to use your cell phone, then you are free to excuse\\nyourself from class to deal with the situation.\\n\\x0cTalking during class is also not allowed. This is also considered to be rude behavior,\\nand it is distracting to the professor. If you are being disruptive and talking to another\\nstudent during class, then | reserve the right to move you to the front of the classroom\\nor | may ask you to leave the class and you will not be allowed back until the class until'\n",
      "page_content='you have emailed the instructor.'\n",
      "\n",
      "\n",
      "title: Du-MATH-1A-63-W19\n",
      "matching substrings:\n",
      "page_content='Students are responsible for keeping themselves informed of the De Anza College Student Code of\\nConduct (www.deanza.edu/student-development/conduct.htm1). Disruptive classroom behavior\\nis unacceptable. Examples of such behavior include, but not limited to, talking during lecture and student\\npresentation, making distracting noises, or arriving to class late or leaving early. Persistent disruption may\\nresult in being asked to leave the class and/or being referred to the Dean of Students Office.'\n",
      "page_content='Homework and Quizzes\\n\\nHomework will be assigned for each lesson and will be due on each exam day. Students are responsible for\\nsolving all the problems assigned, showing all work in a neat and orderly manner. Simply giving answers\\nwithout showing work will receive no credit. Homework will be graded on neatness, completeness, and\\ncorrectness. Late homework will be accepted but will receive a maximum of half credit.'\n",
      "\n",
      "\n",
      "title: Dhaliwal-MATH-1A-67Z-W19\n",
      "matching substrings:\n",
      "page_content='Your work will be graded on correctness, writing and presentation.\\nYour solutions should be clear, with work flowing from top to bottom, left to\\nright.\\ne Late work will not be accepted and assignments are collected in the first 5\\nminutes of class.\\no It is your responsibility to take the appropriate measures to ensure\\nthat you are in class with a completed assignment at the start of\\nclass.\\n\\nHomework:\\n\\nHomework will be assigned and collected in homework sets.'\n",
      "page_content='e Tutors are available in S—43, the math and science tutoring center. The\\ntutoring center offers tutor-led study groups and tutors as assistants in the\\nlabs (S42 and S48). Go to S-43 to sign up for tutoring.\\n\\ne Students are encouraged to form study groups. Go to S—43 for help in\\ncreating a group with a tutor.\\n\\nDropping the Course: from Admissions and Records\\n\\ne Adding/Dropping Info: https:/Awww.deanza.edu/registration/add-drop.html\\n(Links to an external site.)Links to an external site.'\n",
      "\n",
      "\n"
     ]
    }
   ],
   "source": [
    "for doc_id in range(len(json_data['docs'])):\n",
    "    doc_str = json_data['docs'][doc_id]['content']\n",
    "\n",
    "    text_splitter = RecursiveCharacterTextSplitter(chunk_size=500, chunk_overlap=50)\n",
    "    doc_split = text_splitter.create_documents([doc_str])\n",
    "\n",
    "    # Embed the documents\n",
    "    doc_vecs = np.array([embeddings.embed(sub_doc.page_content) for sub_doc in doc_split])\n",
    "\n",
    "    # Compute scores\n",
    "    scores = query_vec @ doc_vecs.T\n",
    "\n",
    "    # Get top k documents\n",
    "    k = 2\n",
    "    top_docs_indices = np.argsort(-scores)[:k]\n",
    "    top_docs = [doc_split[i] for i in top_docs_indices]\n",
    "\n",
    "    print(\"title:\", json_data['docs'][doc_id]['title'])\n",
    "    print(\"matching substrings:\")\n",
    "    for sub_doc in top_docs:\n",
    "        print(sub_doc)\n",
    "    print(\"\\n\")"
   ]
  },
  {
   "cell_type": "code",
   "execution_count": null,
   "metadata": {},
   "outputs": [],
   "source": []
  }
 ],
 "metadata": {
  "kernelspec": {
   "display_name": "venv",
   "language": "python",
   "name": "python3"
  },
  "language_info": {
   "codemirror_mode": {
    "name": "ipython",
    "version": 3
   },
   "file_extension": ".py",
   "mimetype": "text/x-python",
   "name": "python",
   "nbconvert_exporter": "python",
   "pygments_lexer": "ipython3",
   "version": "3.12.2"
  }
 },
 "nbformat": 4,
 "nbformat_minor": 2
}
