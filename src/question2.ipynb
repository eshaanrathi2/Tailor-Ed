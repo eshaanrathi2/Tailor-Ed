{
 "cells": [
  {
   "cell_type": "code",
   "execution_count": 1,
   "metadata": {},
   "outputs": [],
   "source": [
    "query = \"Attendance mandatory\""
   ]
  },
  {
   "cell_type": "code",
   "execution_count": 2,
   "metadata": {},
   "outputs": [],
   "source": [
    "from langchain_community.document_loaders import JSONLoader\n",
    "from langchain_text_splitters import RecursiveCharacterTextSplitter\n",
    "from langchain_community.embeddings import GPT4AllEmbeddings\n",
    "from langchain_community.vectorstores import Chroma"
   ]
  },
  {
   "cell_type": "code",
   "execution_count": 3,
   "metadata": {},
   "outputs": [],
   "source": [
    "import json\n",
    "from pathlib import Path\n",
    "from pprint import pprint"
   ]
  },
  {
   "cell_type": "code",
   "execution_count": 4,
   "metadata": {},
   "outputs": [],
   "source": [
    "import gc"
   ]
  },
  {
   "cell_type": "code",
   "execution_count": 5,
   "metadata": {},
   "outputs": [],
   "source": [
    "file_path='data/test.json'"
   ]
  },
  {
   "cell_type": "code",
   "execution_count": 6,
   "metadata": {},
   "outputs": [],
   "source": [
    "json_data = json.loads(Path(file_path).read_text())"
   ]
  },
  {
   "cell_type": "code",
   "execution_count": 7,
   "metadata": {},
   "outputs": [
    {
     "data": {
      "text/plain": [
       "10"
      ]
     },
     "execution_count": 7,
     "metadata": {},
     "output_type": "execute_result"
    }
   ],
   "source": [
    "len(json_data['docs'])"
   ]
  },
  {
   "cell_type": "code",
   "execution_count": 10,
   "metadata": {},
   "outputs": [],
   "source": [
    "from gpt4all import Embed4All\n",
    "import numpy as np\n",
    "\n",
    "# Initialize Embed4All\n",
    "embeddings = Embed4All()\n",
    "\n",
    "query_vec = embeddings.embed(query)"
   ]
  },
  {
   "cell_type": "code",
   "execution_count": 8,
   "metadata": {},
   "outputs": [],
   "source": [
    "# for doc_id in range(len(json_data['docs'])):\n",
    "#     doc_str = json_data['docs'][doc_id]['content']\n",
    "\n",
    "#     text_splitter = RecursiveCharacterTextSplitter(chunk_size=500, chunk_overlap=50)\n",
    "#     doc_split = text_splitter.create_documents([doc_str])\n",
    "\n",
    "#     # Embed the documents\n",
    "#     doc_vecs = np.array([embeddings.embed(sub_doc.page_content) for sub_doc in doc_split])\n",
    "\n",
    "#     # Compute scores\n",
    "#     scores = query_vec @ doc_vecs.T\n",
    "\n",
    "#     # Get top k documents\n",
    "#     k = 2\n",
    "#     top_docs_indices = np.argsort(-scores)[:k]\n",
    "#     top_docs = [doc_split[i] for i in top_docs_indices]\n",
    "\n",
    "#     print(\"title:\", json_data['docs'][doc_id]['title'])\n",
    "#     print(\"matching substrings:\")\n",
    "#     for sub_doc in top_docs:\n",
    "#         print(sub_doc)\n",
    "#     print(\"\\n\")"
   ]
  },
  {
   "cell_type": "code",
   "execution_count": 11,
   "metadata": {},
   "outputs": [
    {
     "data": {
      "text/plain": [
       "{'Judson-MATH-1A-01-W19': {'grading': 'General Grading: Each lab member is required to turn in their own lab report. Failure to turn in a lab\\nreport will result in a 0 for that lab member. There will be no late labs accepted. Each lab will be graded\\nout of 100 points. Except where indicated on an individual lab, I will randomly select different lab reports\\nto assess for each section of the lab. Every member of the lab group will receive the same score for a. If you are taking the honors section of this course you will be required to do the honors problems\\non the homework assignments. These problems will represent half of your homework grade. In\\nlieu of your discussion grade you will also complete an honors project. The honors project will be\\na somewhat shorter version of a lab assignment that you will complete individually.\\n\\nGrading Scale\\n\\nDue to the complexity of the material the grading scale we will use is as follows. the homework must be stapled together. Four points of your homework grade are allotted to\\nformatting. On the first assignment you will be penalized 1 point per formatting error. On the\\nsecond assignment you will be penalized 2 points per formatting error. After the second\\nassignment any formatting error will forfeit all 4 points that are assigned for formatting. Each\\nhomework will consist of 20 problems. Four of these problems will be graded for content. These. 2) Calculator: TI83/84 graphing calculator or similar\\nTI89 or any calculator with a CAS will not be allowed.\\nCalculators will be required on about half of the tests and quizzes.\\n\\nGrade\\nYour grade will be computed using the following grade distribution.\\n5% Labs 10% Quizzes\\n9% Discussion 40% Midterms (4)\\n10% Homework 30% Final\\n\\nExams. will be graded out of 5 points each. You will not know which 4 problems will be graded. For the\\nremaining 16 problems you will be awarded one point each provided that I believe you attempted\\nthe problem. In this way each assignment is worth 40 points. Some homeworks will list\\nAdditional Problems. These are required problems that are part of the assignments 20 problems.\\nEach assignment will also list Honors Problems. If you are not taking the honors section of this. '},\n",
       " 'Lien-MATH-1A-05-W19': {'grading': '80-82.9% «|B\\n63-679% «(DS\\n60-62.9% «(| D-\\n\\n \\n\\nFinal grades are non-negotiable. You should monitor your scores in the gradebook regularly throughout the\\nquarter. If there are any discrepancies, they should be brought to my attention as soon as possible.\\n\\x0cTUTORING. GRADING\\n\\n- Attendance is mandatory as part of your participation grade. You must also be present to completely fill\\nin your binder for the binder check at the end of the quarter.\\n\\n- Please see the FAQ at the end of the syllabus for information about the binder check.\\n\\n- There will be three in-class midterms and a final. Please bring in a valid photo ID on exam days.. - Your lowest quiz score will be dropped.\\n\\n- The grades for the exams will be changed only if there is a clear error on my part, such as adding up\\nmarks incorrectly. Problems must be brought to my attention immediately after exams are returned.\\n\\n- Changing your work (adding to and/or erasing any of your work) after the exam has been graded is\\nconsidered to be academic dishonesty and you may eam a 0 on the exam.. - An incomplete grade (I) is rarely assigned. It will only be assigned in extreme situations (i.e.\\nunforeseeable emergency and justifiable reason at the end of the term that prevent you from completing\\nthe course). You must be in good standing with near-perfect attendance and an overall grade of a 70%\\n(C) or greater in order to request for an incomplete grade.\\n\\nBreakdown of grades:\\nHomework\\n63-879% «BO\\n\\n80-82.9% «|B\\n63-679% «(DS\\n60-62.9% «(| D-. ANSWER: To earn the full 5% for participation, you must be present in class and provide me with your full\\nattention. This means you are following along with the lecture and filling in your notes, asking me any\\nquestions if something is unclear.\\n\\nQUESTION: What is my current grade in the class?\\nANSWER: I use Canvas to keep track of the scores you earn on each assignment, quiz, and exam. You\\nshould monitor it regularly to see your current standing in the course.. '},\n",
       " 'Howard-MATH-1A-07-W19': {'grading': \"Grading:\\n\\nHomework: Homework will be assigned after almost every class and it will primarily\\ncome from the textbook (there is no online homework for this class). | will not collect. 60-69% = D.\\n\\nbelow 60% = F.\\n\\nThis grading scale is not set entirely in stone. | may curve the class at the very end of\\nthe course, and letter grades will be determined by a curve at the instructor's discretion.\\nIt depends on how the entire class performs, but the above scale will be a good\\nindication of how you are doing in the course.\\n\\nCourse Description: Fundamentals of Differential Calculus.. and exercise numbers listed on the front page or else points will be deducted. If you turn\\nin the wrong homework assignment, then you will receive a zero for that assignment. It\\nis your responsibility to make sure that you are organized and turn in the correct\\nhomework assignment. The homework will be graded on a scale of 1-10 where 10 isa\\nperfect score. | will be primarily grading the homework on effort and to give you\\nfeedback.. Tests: There will be a total of 4 exams in the class: 3 midterms and 1 final. | do not give\\nmake up exams, with the possible exception of the final exam under extreme\\ncircumstances. In the event that you miss an exam, you will be permitted to replace the\\nzero you received on one midterm exam by your next midterm (or final exam in the\\nevent you miss the third midterm) grade on a percentage equivalent basis. You can use\\na scientific calculator. lf a student is caught cheating, the instructor reserves the right to assign a grade of F\\nfor that exam/quiz or to drop the student with a W from the course. If a student is\\nreturned a graded test or quiz and the student changes his or her incorrect answers in\\norder to receive more points, the student is considered cheating and such an act will\\ncarry the same consequences as those mentioned above. If you are caught cheating on\\nthe final exam, you might receive a grade of F for the course.. \"},\n",
       " 'Mailhot-MATH-1A-09-W19': {'grading': 'Homework and in-class assignments: 10%\\n\\nQuizzes (lowest score dropped): 15%\\n3 Midterms: 15% each\\nFinal Exam: 30%\\n\\nGrade breakdowns are:\\n\\n92.5% and above: A\\n\\n90 — 92.5%: A-\\n87.5 — 90%: Bt\\n82.5 — 87.5%: B\\n80 — 82.5%: B-\\n77.5 — 80%: C+\\n70 — 77.5%: C\\n60 — 70%: D\\nunder 60%: F. of your course grade.. Friday, March 22 — Last regular class day\\n\\nMonday, March 25 — Final Exam (11:30am — 1:30pm)\\n\\x0cStudent Learning Outcome(s):\\n\\n* Analyze and synthesize the concepts of limits, continuity, and differentiation from a\\ngraphical, numerical, analytical and verbal approach, using correct notation and\\nmathematical precision.. College Policies:\\ne Students cannot take the same class more than three times for a grade, including W.\\ne Late adds and late drops will not be processed.. Quizzes: | will give pop quizzes in class on a random basis. Calculators are not allowed on quizzes.\\nMake-up quizzes will not be given. Your lowest quiz score will be dropped.. '},\n",
       " 'Nay-MATH-1A-11-W19': {'grading': 'Midterm Exam #2\\nMidterm Exam #3\\n\\nMidterm Exam #1\\n\\n80.0-82.9%\\n\\n \\n\\n78.0-79.9% C+\\n\\n60.0-67.9% | DD\\n\\nFinal grades are non-negotiable. You should monitor your scores regularly throughout the\\nquarter. If there are any discrepancies, they should be brought to my attention as soon as\\npossible. Grades on exams, homework, and/or quizzes will be changed only if there is a clear\\nerror on my part, such as adding up marks incorrectly.. EXAMS\\n\\nThere will be three (3) midterm exams and one final exam during the quarter. The midterm\\nexams will be specific to the topic(s) being covered for that portion of the quarter. The final\\nexam will be comprehensive. All exams will be closed book with no calculators allowed. The\\nuse of note cards will be at my discretion for each exam.\\n\\nGRADING\\n\\nBreakdown of Grade\\nHomework (6)\\nQuizzes (10)\\n\\nGrading Scale\\n100-99.0% A\\n93.0-98.9%\\n90.0-92.9%\\n88.0-89.9%\\n83.0-87.9%. An incomplete grade (1) is rarely assigned. It will only be assigned in extreme situations (i.e.\\nunforeseeable emergency and justifiable reason at the end of the term that prevent you from\\ncompleting the course). You must be in good standing with near-perfect attendance and an\\noverall grade of a 70% (C) or greater in order to request for an incomplete grade.\\n\\x0cMATH-1A-11-W19 Syllabus\\n\\nMAKE-UP POLICY. Student Learning Outcome(s):\\n\\n* Analyze and synthesize the concepts of limits, continuity, and differentiation from a graphical,\\nnumerical, analytical and verbal approach, using correct notation and mathematical precision.\\n\\n*Evaluate the behavior of graphs in the context of limits, continuity and differentiability.\\n\\n*Recognize, diagnose, and decide on the appropriate method for solving applied real world\\nproblems in optimization, related rates and numerical approximation.. MATH-1A-11-W19 Syllabus\\n\\nHOMEWORK\\n\\nSix (6) homework assignments will be given during the quarter. The homework will be graded\\nand returned prior to the subsequent exam so that the homework assignments can be used as a\\nstudy aid for the exam. Collaboration on the homework is encouraged, but each student must\\nwrite his/her own solutions and not copy them from anyone else. If you have questions about the\\nhomework, you may email me or see me during my office hours.\\n\\nQUIZZES. '},\n",
       " 'Mailhot-MATH-1A-23-W19': {'grading': 'Homework and in-class assignments: 10%\\n\\nQuizzes (lowest score dropped): 15%\\n3 Midterms: 15% each\\nFinal Exam: 30%\\n\\nGrade breakdowns are:\\n\\n92.5% and above: A\\n\\n90 — 92.5%: A-\\n87.5 — 90%: Bt\\n82.5 — 87.5%: B\\n80 — 82.5%: B-\\n77.5 — 80%: C+\\n70 — 77.5%: C\\n60 — 70%: D\\nunder 60%: F. of your course grade.. If you are not a member of the Honors Program but think you may be eligible to join, and want to\\ntake this class as an Honors class, please see me.\\n\\nImportant Dates:\\n\\nSaturday, January 19 — Last day to add\\n\\nSunday, January 20 — Last day to drop with no record\\nFriday, March 1 — Last day to drop with a ‘W’\\nThursday, March 21 — Last regular class day\\nTuesday, March 26 — Final Exam (1:45 — 3:45pm)\\n\\x0cStudent Learning Outcome(s):. College Policies:\\ne Students cannot take the same class more than three times for a grade, including W.\\ne Late adds and late drops will not be processed.. Quizzes: | will give pop quizzes in class on a random basis. Calculators are not allowed on quizzes.\\nMake-up quizzes will not be given. Your lowest quiz score will be dropped.. '},\n",
       " 'Lopez-MATH-1A-25-W19': {'grading': '3 exams 300 pts.\\n5 quizzes 100 pts.\\n1 Final exam 150 pts.\\n\\nTotal: 550 Points\\n\\nYour final grade is determined by the percentage of points you receive\\nout of 550 according the following breakdown:\\n\\n[97,100] : \"At\" [93,97):\"A\" [90,93) :\"A-\" [87,90): \"B+\" [83,87) :\"B\"\\n[80,83) : \"B-\" [77,80) :\"C+\" [70,77):\"C\" [60,70):\"D\" Below 60% : \"F\". of F for the entire course or to drop the student with a W from the course. If a\\nstudent is returned a graded test or quiz and the student changes his or her\\n\\nincorrect answers in order to receive more points, the student is considered\\ncheating and such an act will carry the same consequences as those mentioned\\nabove. If you are caught cheating on the final exam, you will automatically\\nreceive a grade of F for the course.. The final exam has two parts. The first part is 100 points, no calculator, &\\nwork doesn’t need to be shown. The second part is write-out (approx. 5\\nproblems, 50 points, with calculator). Finals must be taken at the\\nscheduled time not before or afterwards (See calendar).\\n\\nYou are expected to be in class every day. If you have 3 recorded\\nabsences, your may be dropped you from the course. However, it is your\\nresponsibility to drop yourself if you wish to drop the course.. The class schedule given above is tentative and subject to change.\\n\\x0cStudent Learning Outcome(s):\\n\\n*Analyze and synthesize the concepts of limits, continuity, and differentiation\\nfrom a graphical, numerical, analytical and verbal approach, using correct\\nnotation and mathematical precision.\\n\\n*Evaluate the behavior of graphs in the context of limits, continuity and\\ndifferentiability.. Calculus-Early Transcendentas, 8\" edition, by James Stewart\\nTI-83, TI-84, or TI-86 graphing calculator, small stapler. Pencils.\\n\\nQuizzes will be given (See calendar). No make-ups. Do not ask. We will\\nhave 6 quizzes altogether of which your lowest score is dropped.\\n\\nHomework is assigned every meeting and is expected to be completed in\\nit\\'s entirety by the next class meeting. Additional homework problems (not\\nin text) may be handed out from time to time and may be collected for\\npoints.. '},\n",
       " 'Howard-MATH-1A-27-W19': {'grading': \"Grading:\\n\\nHomework: Homework will be assigned after almost every class and it will primarily\\ncome from the textbook (there is no online homework for this class). | will not collect. 60-69% = D.\\n\\nbelow 60% = F.\\n\\nThis grading scale is not set entirely in stone. | may curve the class at the very end of\\nthe course, and letter grades will be determined by a curve at the instructor's discretion.\\nIt depends on how the entire class performs, but the above scale will be a good\\nindication of how you are doing in the course.\\n\\nCourse Description: Fundamentals of Differential Calculus.. and exercise numbers listed on the front page or else points will be deducted. If you turn\\nin the wrong homework assignment, then you will receive a zero for that assignment. It\\nis your responsibility to make sure that you are organized and turn in the correct\\nhomework assignment. The homework will be graded on a scale of 1-10 where 10 isa\\nperfect score. | will be primarily grading the homework on effort and to give you\\nfeedback.. Tests: There will be a total of 4 exams in the class: 3 midterms and 1 final. | do not give\\nmake up exams, with the possible exception of the final exam under extreme\\ncircumstances. In the event that you miss an exam, you will be permitted to replace the\\nzero you received on one midterm exam by your next midterm (or final exam in the\\nevent you miss the third midterm) grade on a percentage equivalent basis. You can use\\na scientific calculator. lf a student is caught cheating, the instructor reserves the right to assign a grade of F\\nfor that exam/quiz or to drop the student with a W from the course. If a student is\\nreturned a graded test or quiz and the student changes his or her incorrect answers in\\norder to receive more points, the student is considered cheating and such an act will\\ncarry the same consequences as those mentioned above. If you are caught cheating on\\nthe final exam, you might receive a grade of F for the course.. \"},\n",
       " 'Du-MATH-1A-63-W19': {'grading': 'Grading Policy\\n\\nThe course grade will be determined by the following criteria:\\nParticipation/Attendance ...... 5% A = 90% — 100%\\nHomework ...............5. 10% B = 80% —89%\\nQUIZZES 1... 6 eee 10% C = 70% —79%\\nMidterm Exams ............ 45% D = 60% —- 69%\\nFinal Exam ................. 30% F = 0% -59%\\n\\n“The instructor reserves the right to assign plus/minus grades for borderline cases.\\n\\nAttendance Policy. A mandatory comprehensive final exam will be given at the end of the quarter. Students may bring one\\n8.5” x 11” sheet (two sides) of handwritten notes to the final exam. A picture ID is required to take the\\nfinal exam. Any student who misses the final exam will receive a grade of F for the course.\\n\\nGrading Policy. There will be two (2) midterm exams given during the quarter. Students may bring one 3” x 5” index card\\n(two-sides) of handwritten notes to each midterm exam. The lowest midterm exam score will be replaced\\nby the final exam score, if the latter is higher. There will be no make-up midterm exams under any\\ncircumstances.. Homework and Quizzes\\n\\nHomework will be assigned for each lesson and will be due on each exam day. Students are responsible for\\nsolving all the problems assigned, showing all work in a neat and orderly manner. Simply giving answers\\nwithout showing work will receive no credit. Homework will be graded on neatness, completeness, and\\ncorrectness. Late homework will be accepted but will receive a maximum of half credit.. student’s responsibility to officially drop the course. Failure to do so may result in a grade of F for the\\ncourse.. '},\n",
       " 'Dhaliwal-MATH-1A-67Z-W19': {'grading': \"Quiz problems will be similar to the homework problems but with cosmetic\\nchanges (i.e. numbers, descriptions, names) and questions based on reading\\nof the sections.\\n\\nThe lowest quiz score will be dropped.\\n\\nThere will be three 50-minute exams, with tentative dates listed on the\\nschedule provided.\\n\\nNo makeup exams will be given\\n\\nLowest exam grade will be dropped unless the student is caught cheating on\\nan exam, in which case all exam scores will be used. Attendance Is very important for learning material and staying up to date with\\nlecture.\\n\\nAny student may be dropped after five unexcused (hours) absences.\\n\\nLate arrivals or early absences will count as half an absence.\\n\\x0ce Note: It is the student's responsibility to drop from the course by the deadline.\\nA student who discontinues attending the course without dropping will receive\\nan F grade.\\n\\nGrading:\\n\\nQuizzes: 15%\\n\\nExams (3): 45%\\n\\nFinal: 20%\\n\\nHomework: 10%\\nLabs/Participation: 10%\\nGrade Scale. Homework will be graded on completeness and effort.\\n\\nYou will need to create a pdf of your homework and upload it to canvas.\\nExpect a challenging course requiring about 10 hours work outside of class\\nper week. All questions on homework will be taken, time permitting.\\n\\nQuizzes\\n\\x0cExams:\\n\\nLabs\\n\\nThere will be quizzes given throughout the quarter with.. Note: Online classes, exams are in person. Please look at Discussions\\nsection to find the exam times/locations for the quarter.\\n\\nThere will be labs assigned throughout the quarter that will be completed in\\nclass and within groups.\\n\\nPlease check the canvas groups to see which group you are in.\\n\\nThe lowest lab will be dropped\\n\\nFinal Exam:\\n\\nCheating:. Final Exam:\\n\\nCheating:\\n\\nThere will be one two-hour comprehensive final exam. Missing the final will\\nresult in an F.\\nFinal is multiple choice\\nYou are allowed 1 page of notes 8.5x11 inches, both sides, hand-written, with\\nyour name on the notes.\\n\\no Notes are to be turned in with the final exam.\\n\\nNo tolerance, those caught cheating will be given a O on the assignment and\\nreported to De Anza.\\n\\nAttendance - In person class only, not applicable for the online section.. \"}}"
      ]
     },
     "execution_count": 11,
     "metadata": {},
     "output_type": "execute_result"
    }
   ],
   "source": [
    "secondary_data = json.load(open('data/secondary_data.json'))\n",
    "secondary_data\n"
   ]
  },
  {
   "cell_type": "code",
   "execution_count": 9,
   "metadata": {},
   "outputs": [],
   "source": [
    "# secondary_data = {}"
   ]
  },
  {
   "cell_type": "code",
   "execution_count": 12,
   "metadata": {},
   "outputs": [],
   "source": [
    "from gpt4all import Embed4All\n",
    "import numpy as np\n",
    "from sklearn.metrics.pairwise import cosine_similarity\n",
    "\n",
    "# Initialize Embed4All\n",
    "# embeddings = Embed4All()\n",
    "\n",
    "# # Define the query string\n",
    "# query = \"your query string\"\n",
    "\n",
    "# # Embed the query\n",
    "# query_vec = embeddings.embed(query)\n",
    "\n",
    "# Iterate over each document\n",
    "for doc_id in range(len(json_data['docs'])):\n",
    "    doc_str = json_data['docs'][doc_id]['content']\n",
    "\n",
    "    text_splitter = RecursiveCharacterTextSplitter(chunk_size=500, chunk_overlap=50)\n",
    "    doc_split = text_splitter.create_documents([doc_str])\n",
    "\n",
    "    # Embed the documents\n",
    "    doc_vecs = np.array([embeddings.embed(sub_doc.page_content) for sub_doc in doc_split])\n",
    "\n",
    "    # Compute cosine similarity scores\n",
    "    scores = cosine_similarity([query_vec], doc_vecs)[0]\n",
    "\n",
    "    # Get top k documents\n",
    "    k = 5\n",
    "    top_docs_indices = np.argsort(-scores)[:k]\n",
    "    top_docs = [doc_split[i] for i in top_docs_indices]\n",
    "\n",
    "    # print(\"title:\", json_data['docs'][doc_id]['title'])\n",
    "    # print(\"matching substrings:\")\n",
    "    final_doc_str = \"\"\n",
    "    for sub_doc in top_docs:\n",
    "        # print(sub_doc.page_content)\n",
    "        final_doc_str += sub_doc.page_content + \". \"\n",
    "    \n",
    "    if json_data['docs'][doc_id]['title'] not in secondary_data:\n",
    "        secondary_data[json_data['docs'][doc_id]['title']] = {}\n",
    "    secondary_data[json_data['docs'][doc_id]['title']][query] = final_doc_str    \n",
    "    # secondary_data[json_data['docs'][doc_id]['title']]['retrieved_content'] = final_doc_str\n",
    "\n",
    "    # print(\"\\n\")"
   ]
  },
  {
   "cell_type": "code",
   "execution_count": 13,
   "metadata": {},
   "outputs": [
    {
     "data": {
      "text/plain": [
       "{'Judson-MATH-1A-01-W19': {'grading': 'General Grading: Each lab member is required to turn in their own lab report. Failure to turn in a lab\\nreport will result in a 0 for that lab member. There will be no late labs accepted. Each lab will be graded\\nout of 100 points. Except where indicated on an individual lab, I will randomly select different lab reports\\nto assess for each section of the lab. Every member of the lab group will receive the same score for a. If you are taking the honors section of this course you will be required to do the honors problems\\non the homework assignments. These problems will represent half of your homework grade. In\\nlieu of your discussion grade you will also complete an honors project. The honors project will be\\na somewhat shorter version of a lab assignment that you will complete individually.\\n\\nGrading Scale\\n\\nDue to the complexity of the material the grading scale we will use is as follows. the homework must be stapled together. Four points of your homework grade are allotted to\\nformatting. On the first assignment you will be penalized 1 point per formatting error. On the\\nsecond assignment you will be penalized 2 points per formatting error. After the second\\nassignment any formatting error will forfeit all 4 points that are assigned for formatting. Each\\nhomework will consist of 20 problems. Four of these problems will be graded for content. These. 2) Calculator: TI83/84 graphing calculator or similar\\nTI89 or any calculator with a CAS will not be allowed.\\nCalculators will be required on about half of the tests and quizzes.\\n\\nGrade\\nYour grade will be computed using the following grade distribution.\\n5% Labs 10% Quizzes\\n9% Discussion 40% Midterms (4)\\n10% Homework 30% Final\\n\\nExams. will be graded out of 5 points each. You will not know which 4 problems will be graded. For the\\nremaining 16 problems you will be awarded one point each provided that I believe you attempted\\nthe problem. In this way each assignment is worth 40 points. Some homeworks will list\\nAdditional Problems. These are required problems that are part of the assignments 20 problems.\\nEach assignment will also list Honors Problems. If you are not taking the honors section of this. ',\n",
       "  'Attendance mandatory': 'course you are not required to do the Honors Problems. No late work will be accepted. Your\\nlowest homework score will be dropped.. Important Dates: January 19: Last day to add aclass\\nJanuary 20: Last day to drop with no grade on record.\\nFebruary 1: Last day to request Pass/No Pass grade.\\nMarch 1: Last day to drop with a \"W\".\\n\\n     \\n       \\n   \\n      \\n\\n \\n\\nPrerequisite\\nQuiz\\n\\n11 HwtI due\\nLab 1 (part 2)\\nQuiz |\\n\\n18 Hw2due\\nDiscussion 2\\nLab 1 due\\n\\n25\\n\\nMidterm 1\\n\\nHw 4 due\\n\\nl\\n\\nDiscussion 4\\nQuiz 3\\n\\n8\\n\\nPresident’s\\nWeekend\\n\\n15\\n\\nDiscussion 6\\n\\n22\\n\\nMean Value\\nTheorem\\n\\nl Ch. 4.2\\nL’Hospital’s\\nRule\\n\\n8 Ch. 4.4\\n\\nQuiz 9\\nHw 13 due\\n22 Lab 6due. each lab, but you are not required to do so. All lab days are already on your calendar. If you are not there\\non a lab day, you may still do the lab as a group of 1, but you will be subject to a 20 point penalty. You\\nmay, of course, make arrangements with other members of the class to declare yourself as part of their\\ngroup on the day groups are declared.. Incompletes: To avoid groups being penalized for a member who does not complete certain sections you\\nwill need to indicate whenever your lab is incomplete. You MUST write Incomplete at the top of the front\\npage of your lab and indicate which sections you did not do. Your lab will only be graded out of the\\nsections you completed. Failure to do this may result in a score of 0 for the individual who has an\\nincomplete lab.\\n\\x0cStudent Learning Outcome(s):. Accomodations\\n\\nHonors\\n\\nThose of you who need additional accommodations, due to disability, campus-related\\nactivities, or some other reason, please meet with me during the first two weeks of class\\nto discuss your options.. '},\n",
       " 'Lien-MATH-1A-05-W19': {'grading': '80-82.9% «|B\\n63-679% «(DS\\n60-62.9% «(| D-\\n\\n \\n\\nFinal grades are non-negotiable. You should monitor your scores in the gradebook regularly throughout the\\nquarter. If there are any discrepancies, they should be brought to my attention as soon as possible.\\n\\x0cTUTORING. GRADING\\n\\n- Attendance is mandatory as part of your participation grade. You must also be present to completely fill\\nin your binder for the binder check at the end of the quarter.\\n\\n- Please see the FAQ at the end of the syllabus for information about the binder check.\\n\\n- There will be three in-class midterms and a final. Please bring in a valid photo ID on exam days.. - Your lowest quiz score will be dropped.\\n\\n- The grades for the exams will be changed only if there is a clear error on my part, such as adding up\\nmarks incorrectly. Problems must be brought to my attention immediately after exams are returned.\\n\\n- Changing your work (adding to and/or erasing any of your work) after the exam has been graded is\\nconsidered to be academic dishonesty and you may eam a 0 on the exam.. - An incomplete grade (I) is rarely assigned. It will only be assigned in extreme situations (i.e.\\nunforeseeable emergency and justifiable reason at the end of the term that prevent you from completing\\nthe course). You must be in good standing with near-perfect attendance and an overall grade of a 70%\\n(C) or greater in order to request for an incomplete grade.\\n\\nBreakdown of grades:\\nHomework\\n63-879% «BO\\n\\n80-82.9% «|B\\n63-679% «(DS\\n60-62.9% «(| D-. ANSWER: To earn the full 5% for participation, you must be present in class and provide me with your full\\nattention. This means you are following along with the lecture and filling in your notes, asking me any\\nquestions if something is unclear.\\n\\nQUESTION: What is my current grade in the class?\\nANSWER: I use Canvas to keep track of the scores you earn on each assignment, quiz, and exam. You\\nshould monitor it regularly to see your current standing in the course.. ',\n",
       "  'Attendance mandatory': 'ATTENDANCE\\n\\nIt is essential that you participate and regularly ask questions in order to succeed in this course and your future\\nmath courses. Therefore, attendance is required and students are expected to attend all sessions of each class.\\nAttendance may be taken at any point during the class (beginning, middle, or end). If you use your\\nphone/tablet/laptop or any unrelated material, I may ask you to leave and that day will count as an absence.. GRADING\\n\\n- Attendance is mandatory as part of your participation grade. You must also be present to completely fill\\nin your binder for the binder check at the end of the quarter.\\n\\n- Please see the FAQ at the end of the syllabus for information about the binder check.\\n\\n- There will be three in-class midterms and a final. Please bring in a valid photo ID on exam days.. Make sure to sign in on the attendance sheet for each lecture. Do NOT sign in for anyone else.\\n\\nQUESTION: I am sick and cannot make it to lecture today. What should I do?. Instructors may drop students from class if they fail to attend the first class meeting, or when accumulated\\nunexcused hours of absence exceed ten percent of the total number of hours the class meets during the quarter.\\nI will drop students who do not attend the first class meeting. You should NOT rely on your instructor to\\ndrop you from your course. If you decide to stop attending class, it is your responsibility to drop. Failure to do\\nso will result in a grade of F.\\n\\x0cCLASSROOM ETTIQUETTE. CODE OF STUDENT CONDUCT\\n\\nThe college has an obligation to specify those standards of behavior essential to its educational mission and\\ncampus life. The students who are in violation of the Code of Student Conduct are subject to disciplinary\\nsanctions which apply at all times on campus as well as to any off-campus functions sponsored or supervised\\nby the college.\\n\\nACCESSIBILITY ACCOMODATIONS. '},\n",
       " 'Howard-MATH-1A-07-W19': {'grading': \"Grading:\\n\\nHomework: Homework will be assigned after almost every class and it will primarily\\ncome from the textbook (there is no online homework for this class). | will not collect. 60-69% = D.\\n\\nbelow 60% = F.\\n\\nThis grading scale is not set entirely in stone. | may curve the class at the very end of\\nthe course, and letter grades will be determined by a curve at the instructor's discretion.\\nIt depends on how the entire class performs, but the above scale will be a good\\nindication of how you are doing in the course.\\n\\nCourse Description: Fundamentals of Differential Calculus.. and exercise numbers listed on the front page or else points will be deducted. If you turn\\nin the wrong homework assignment, then you will receive a zero for that assignment. It\\nis your responsibility to make sure that you are organized and turn in the correct\\nhomework assignment. The homework will be graded on a scale of 1-10 where 10 isa\\nperfect score. | will be primarily grading the homework on effort and to give you\\nfeedback.. Tests: There will be a total of 4 exams in the class: 3 midterms and 1 final. | do not give\\nmake up exams, with the possible exception of the final exam under extreme\\ncircumstances. In the event that you miss an exam, you will be permitted to replace the\\nzero you received on one midterm exam by your next midterm (or final exam in the\\nevent you miss the third midterm) grade on a percentage equivalent basis. You can use\\na scientific calculator. lf a student is caught cheating, the instructor reserves the right to assign a grade of F\\nfor that exam/quiz or to drop the student with a W from the course. If a student is\\nreturned a graded test or quiz and the student changes his or her incorrect answers in\\norder to receive more points, the student is considered cheating and such an act will\\ncarry the same consequences as those mentioned above. If you are caught cheating on\\nthe final exam, you might receive a grade of F for the course.. \",\n",
       "  'Attendance mandatory': 'Attendance: You are expected to be in class every day. If you have more than 10\\nrecorded absences, you may be dropped from the course. However, it is your\\nresponsibility\\n\\nto drop yourself in the event that you want to drop the class.\\n\\nClass Participation and Academic Etiquette 3%\\nQuizzes 10%\\n\\nMidterm 1 17%\\n\\nMidterm 2 20%\\n\\nMidterm 3 20%\\n\\nFinal 30%\\n\\nGrade Breakdown:\\n90- 100% = A-, A, At.\\n80-89% = B-, B, Bt.\\n70-79% = C.\\n\\n60-69% = D.\\n\\nbelow 60% = F.. Prerequisites: Completion of Math 43 with a grade of C, or equivalent; qualifying score\\non Placement Test within the past calendar year.\\n\\x0cAttendance: You are expected to be in class every day. If you have more than 6\\nrecorded absences, you may be dropped from the course. However, it is your\\nresponsibility to drop yourself in the event that you want to drop the class.. Class Participation and Academic Etiquette: You will be given 10 points for\\nparticipation and academic etiquette for this course. These 10 points make up 3% of\\nyour overall grade. Students will lose half a point for a tardy (late by 5 or more minutes\\nafter class begins) or for leaving 5 or more minutes before class is excused. If you have\\na valid excuse for why you are unable to arrive on time to class or need to leave early,. then you need to email me and state the reason for why you were late or left early. | will\\ndecide if your reason is considered excused or not. Cell phones, computers, and any\\nother electronic devices are not allowed during class. If you are using one of these\\ndevices during class, then you will lose one point for each time that | see you using\\nthese devices. Disruptive behavior will not be tolerated, as well. If you are being. Policies for This Class: These policies are part of the syllabus and will be strictly\\nenforced. By enrolling in this course, you as the student agree to accept these policies\\nand follow them and agree that the instructor reserves the right to drop a student from\\nthe course with a W if any of the policies are violated. Further action may also be\\ntaken against a student who violates specific policies, such as the policy on cheating.. '},\n",
       " 'Mailhot-MATH-1A-09-W19': {'grading': 'Homework and in-class assignments: 10%\\n\\nQuizzes (lowest score dropped): 15%\\n3 Midterms: 15% each\\nFinal Exam: 30%\\n\\nGrade breakdowns are:\\n\\n92.5% and above: A\\n\\n90 — 92.5%: A-\\n87.5 — 90%: Bt\\n82.5 — 87.5%: B\\n80 — 82.5%: B-\\n77.5 — 80%: C+\\n70 — 77.5%: C\\n60 — 70%: D\\nunder 60%: F. of your course grade.. Friday, March 22 — Last regular class day\\n\\nMonday, March 25 — Final Exam (11:30am — 1:30pm)\\n\\x0cStudent Learning Outcome(s):\\n\\n* Analyze and synthesize the concepts of limits, continuity, and differentiation from a\\ngraphical, numerical, analytical and verbal approach, using correct notation and\\nmathematical precision.. College Policies:\\ne Students cannot take the same class more than three times for a grade, including W.\\ne Late adds and late drops will not be processed.. Quizzes: | will give pop quizzes in class on a random basis. Calculators are not allowed on quizzes.\\nMake-up quizzes will not be given. Your lowest quiz score will be dropped.. ',\n",
       "  'Attendance mandatory': 'College Policies:\\ne Students cannot take the same class more than three times for a grade, including W.\\ne Late adds and late drops will not be processed.. If you are not a member of the Honors Program but think you may be eligible to join, and want to\\ntake this class as an Honors class, please see me.\\n\\nImportant Dates:\\n\\nSaturday, January 19 — Last day to add\\n\\nSunday, January 20 — Last day to drop with no record\\n\\nMonday, January 21 — Martin Luther King, Jr. Day (holiday)\\n\\nFriday, February 15 and Monday, February 18 — Presidents’ Days (holidays)\\nFriday, March 1 — Last day to drop with a ‘W’\\n\\nFriday, March 22 — Last regular class day. Honors: An Honors cohort is being offered in this section. If you are in the Honors Program you\\nare welcome to participate in the cohort. Please see me if you are interested in taking this class as\\nan Honors class. The Honors cohort entails additional work and you will earn an Honors\\ndesignation for this class on your transcript. Once you commit to the Honors portion, you will be\\nexpected to complete the extra work. Failure to complete the Honors work will result in a lowering. Friday, March 22 — Last regular class day\\n\\nMonday, March 25 — Final Exam (11:30am — 1:30pm)\\n\\x0cStudent Learning Outcome(s):\\n\\n* Analyze and synthesize the concepts of limits, continuity, and differentiation from a\\ngraphical, numerical, analytical and verbal approach, using correct notation and\\nmathematical precision.. Exams: There will be three in-class midterms and a comprehensive final exam. You may bring one\\n8.5”x11” sheet of hand-written notes (both sides) to exams. Calculators are not allowed on exams.\\nMake-up exams will not be given.\\n\\x0cGetting Help: In addition to coming to office hours, you can get help at the Math, Science &\\nTechnology Resource Center (MSTRC) in S43. They are open M-Th 8:30am — 6:30pm and F\\n8:30am — 12:30pm.. '},\n",
       " 'Nay-MATH-1A-11-W19': {'grading': 'Midterm Exam #2\\nMidterm Exam #3\\n\\nMidterm Exam #1\\n\\n80.0-82.9%\\n\\n \\n\\n78.0-79.9% C+\\n\\n60.0-67.9% | DD\\n\\nFinal grades are non-negotiable. You should monitor your scores regularly throughout the\\nquarter. If there are any discrepancies, they should be brought to my attention as soon as\\npossible. Grades on exams, homework, and/or quizzes will be changed only if there is a clear\\nerror on my part, such as adding up marks incorrectly.. EXAMS\\n\\nThere will be three (3) midterm exams and one final exam during the quarter. The midterm\\nexams will be specific to the topic(s) being covered for that portion of the quarter. The final\\nexam will be comprehensive. All exams will be closed book with no calculators allowed. The\\nuse of note cards will be at my discretion for each exam.\\n\\nGRADING\\n\\nBreakdown of Grade\\nHomework (6)\\nQuizzes (10)\\n\\nGrading Scale\\n100-99.0% A\\n93.0-98.9%\\n90.0-92.9%\\n88.0-89.9%\\n83.0-87.9%. An incomplete grade (1) is rarely assigned. It will only be assigned in extreme situations (i.e.\\nunforeseeable emergency and justifiable reason at the end of the term that prevent you from\\ncompleting the course). You must be in good standing with near-perfect attendance and an\\noverall grade of a 70% (C) or greater in order to request for an incomplete grade.\\n\\x0cMATH-1A-11-W19 Syllabus\\n\\nMAKE-UP POLICY. Student Learning Outcome(s):\\n\\n* Analyze and synthesize the concepts of limits, continuity, and differentiation from a graphical,\\nnumerical, analytical and verbal approach, using correct notation and mathematical precision.\\n\\n*Evaluate the behavior of graphs in the context of limits, continuity and differentiability.\\n\\n*Recognize, diagnose, and decide on the appropriate method for solving applied real world\\nproblems in optimization, related rates and numerical approximation.. MATH-1A-11-W19 Syllabus\\n\\nHOMEWORK\\n\\nSix (6) homework assignments will be given during the quarter. The homework will be graded\\nand returned prior to the subsequent exam so that the homework assignments can be used as a\\nstudy aid for the exam. Collaboration on the homework is encouraged, but each student must\\nwrite his/her own solutions and not copy them from anyone else. If you have questions about the\\nhomework, you may email me or see me during my office hours.\\n\\nQUIZZES. ',\n",
       "  'Attendance mandatory': 'ATTENDANCE\\n\\nStudents are expected to attend all sessions of each class. It is essential that you participate and\\nregularly ask questions in order to succeed in this course and your future math courses.. If there is an in-class quiz on a day you will be absent and you inform me in advance of your\\nabsence, then you will be given an opportunity to earn an equivalent amount of credit as the\\nmissed quiz.\\n\\nThe final exam date and time have been determined and mandated by the college. No early/late\\nfinal exam may be scheduled. If you know that you are unable to take the final at the date and\\ntime above, you must drop the class now.\\n\\nCOMMUNICATION. Instructors reserve the right to drop students from class if they fail to attend the first class\\nmeeting, or when accumulated unexcused hours of absence exceed ten percent of the total\\nnumber of hours the class meets during the quarter. Do not rely on your instructor to drop you\\nfrom your course. If you decide to stop attending class, it is your responsibility to drop. Failure to\\ndo so will result in a grade of F.\\n\\nCLASSROOM ETTIQUETTE. COMMUNICATION\\n\\nI will be using email to communicate with you outside of classroom time so you should check\\nyour email on a regular basis. I expect that if you will miss a class lecture, then you will email\\nme letting me know that you will be absent along with a reason for your absence. If you need to\\ncontact me for routine matters, please use my email. If you need to contact me for more urgent\\nmatters, please call or text my phone.\\n\\nATTENDANCE. An incomplete grade (1) is rarely assigned. It will only be assigned in extreme situations (i.e.\\nunforeseeable emergency and justifiable reason at the end of the term that prevent you from\\ncompleting the course). You must be in good standing with near-perfect attendance and an\\noverall grade of a 70% (C) or greater in order to request for an incomplete grade.\\n\\x0cMATH-1A-11-W19 Syllabus\\n\\nMAKE-UP POLICY. '},\n",
       " 'Mailhot-MATH-1A-23-W19': {'grading': 'Homework and in-class assignments: 10%\\n\\nQuizzes (lowest score dropped): 15%\\n3 Midterms: 15% each\\nFinal Exam: 30%\\n\\nGrade breakdowns are:\\n\\n92.5% and above: A\\n\\n90 — 92.5%: A-\\n87.5 — 90%: Bt\\n82.5 — 87.5%: B\\n80 — 82.5%: B-\\n77.5 — 80%: C+\\n70 — 77.5%: C\\n60 — 70%: D\\nunder 60%: F. of your course grade.. If you are not a member of the Honors Program but think you may be eligible to join, and want to\\ntake this class as an Honors class, please see me.\\n\\nImportant Dates:\\n\\nSaturday, January 19 — Last day to add\\n\\nSunday, January 20 — Last day to drop with no record\\nFriday, March 1 — Last day to drop with a ‘W’\\nThursday, March 21 — Last regular class day\\nTuesday, March 26 — Final Exam (1:45 — 3:45pm)\\n\\x0cStudent Learning Outcome(s):. College Policies:\\ne Students cannot take the same class more than three times for a grade, including W.\\ne Late adds and late drops will not be processed.. Quizzes: | will give pop quizzes in class on a random basis. Calculators are not allowed on quizzes.\\nMake-up quizzes will not be given. Your lowest quiz score will be dropped.. ',\n",
       "  'Attendance mandatory': 'If you are not a member of the Honors Program but think you may be eligible to join, and want to\\ntake this class as an Honors class, please see me.\\n\\nImportant Dates:\\n\\nSaturday, January 19 — Last day to add\\n\\nSunday, January 20 — Last day to drop with no record\\nFriday, March 1 — Last day to drop with a ‘W’\\nThursday, March 21 — Last regular class day\\nTuesday, March 26 — Final Exam (1:45 — 3:45pm)\\n\\x0cStudent Learning Outcome(s):. College Policies:\\ne Students cannot take the same class more than three times for a grade, including W.\\ne Late adds and late drops will not be processed.. Honors: An Honors cohort is being offered in this section. If you are in the Honors Program you\\nare welcome to participate in the cohort. Please see me if you are interested in taking this class as\\nan Honors class. The Honors cohort entails additional work and you will earn an Honors\\ndesignation for this class on your transcript. Once you commit to the Honors portion, you will be\\nexpected to complete the extra work. Failure to complete the Honors work will result in a lowering. Exams: There will be three in-class midterms and a comprehensive final exam. You may bring one\\n8.5”x11” sheet of hand-written notes (both sides) to exams. Calculators are not allowed on exams.\\nMake-up exams will not be given.\\n\\x0cGetting Help: In addition to coming to office hours, you can get help at the Math, Science &\\nTechnology Resource Center (MSTRC) in S43. They are open M-Th 8:30am — 6:30pm and F\\n8:30am — 12:30pm.. Homework: A list of homework problems for the quarter will be e-mailed to students. Homework\\nwill be collected at the beginning of class every Thursday. Sections covered in class one week will\\nbe due on Thursday of the following week. Homework assignments should be neat and legible,\\nstapled together, without any “fringes”.. '},\n",
       " 'Lopez-MATH-1A-25-W19': {'grading': '3 exams 300 pts.\\n5 quizzes 100 pts.\\n1 Final exam 150 pts.\\n\\nTotal: 550 Points\\n\\nYour final grade is determined by the percentage of points you receive\\nout of 550 according the following breakdown:\\n\\n[97,100] : \"At\" [93,97):\"A\" [90,93) :\"A-\" [87,90): \"B+\" [83,87) :\"B\"\\n[80,83) : \"B-\" [77,80) :\"C+\" [70,77):\"C\" [60,70):\"D\" Below 60% : \"F\". of F for the entire course or to drop the student with a W from the course. If a\\nstudent is returned a graded test or quiz and the student changes his or her\\n\\nincorrect answers in order to receive more points, the student is considered\\ncheating and such an act will carry the same consequences as those mentioned\\nabove. If you are caught cheating on the final exam, you will automatically\\nreceive a grade of F for the course.. The final exam has two parts. The first part is 100 points, no calculator, &\\nwork doesn’t need to be shown. The second part is write-out (approx. 5\\nproblems, 50 points, with calculator). Finals must be taken at the\\nscheduled time not before or afterwards (See calendar).\\n\\nYou are expected to be in class every day. If you have 3 recorded\\nabsences, your may be dropped you from the course. However, it is your\\nresponsibility to drop yourself if you wish to drop the course.. The class schedule given above is tentative and subject to change.\\n\\x0cStudent Learning Outcome(s):\\n\\n*Analyze and synthesize the concepts of limits, continuity, and differentiation\\nfrom a graphical, numerical, analytical and verbal approach, using correct\\nnotation and mathematical precision.\\n\\n*Evaluate the behavior of graphs in the context of limits, continuity and\\ndifferentiability.. Calculus-Early Transcendentas, 8\" edition, by James Stewart\\nTI-83, TI-84, or TI-86 graphing calculator, small stapler. Pencils.\\n\\nQuizzes will be given (See calendar). No make-ups. Do not ask. We will\\nhave 6 quizzes altogether of which your lowest score is dropped.\\n\\nHomework is assigned every meeting and is expected to be completed in\\nit\\'s entirety by the next class meeting. Additional homework problems (not\\nin text) may be handed out from time to time and may be collected for\\npoints.. ',\n",
       "  'Attendance mandatory': 'The final exam has two parts. The first part is 100 points, no calculator, &\\nwork doesn’t need to be shown. The second part is write-out (approx. 5\\nproblems, 50 points, with calculator). Finals must be taken at the\\nscheduled time not before or afterwards (See calendar).\\n\\nYou are expected to be in class every day. If you have 3 recorded\\nabsences, your may be dropped you from the course. However, it is your\\nresponsibility to drop yourself if you wish to drop the course.. Restroom visits and other reasons for leaving the classroom during test and\\nquizzes are not allowed. Arrangements for special cases, such as medical\\nreasons, must be discussed with the instructor before a test or quiz starts.. Three exams will be given. No make-ups, no exceptions. You must\\nmake arrangements ahead of time if you are not going to be here. If for\\nsome reason you take an exam late, 15% of the points obtained will be\\ndeducted as a penalty. Only 1 make-up exam is allowed per quarter.. receive a second and final warning. If you cause 3 disruptions during the quarter,\\nyou will be dropped form the course. Please be mindful of this rule. It is contained\\nin writing in this syllabus and fully enforceable.. Reasons for office hours:\\n\\na. The student needs to talk to the instructor about his or her grade,\\nabsences, assignments due, test taken, or anything related to his or her\\nstanding in the class.\\n\\nb. The student needs further explanation, clarification or review of material\\ndiscussed in class, in the text, or in his or her notes.\\n\\nc. The student needs help or has a question about a homework problem\\nafter the student has attempted the problem themselves.. '},\n",
       " 'Howard-MATH-1A-27-W19': {'grading': \"Grading:\\n\\nHomework: Homework will be assigned after almost every class and it will primarily\\ncome from the textbook (there is no online homework for this class). | will not collect. 60-69% = D.\\n\\nbelow 60% = F.\\n\\nThis grading scale is not set entirely in stone. | may curve the class at the very end of\\nthe course, and letter grades will be determined by a curve at the instructor's discretion.\\nIt depends on how the entire class performs, but the above scale will be a good\\nindication of how you are doing in the course.\\n\\nCourse Description: Fundamentals of Differential Calculus.. and exercise numbers listed on the front page or else points will be deducted. If you turn\\nin the wrong homework assignment, then you will receive a zero for that assignment. It\\nis your responsibility to make sure that you are organized and turn in the correct\\nhomework assignment. The homework will be graded on a scale of 1-10 where 10 isa\\nperfect score. | will be primarily grading the homework on effort and to give you\\nfeedback.. Tests: There will be a total of 4 exams in the class: 3 midterms and 1 final. | do not give\\nmake up exams, with the possible exception of the final exam under extreme\\ncircumstances. In the event that you miss an exam, you will be permitted to replace the\\nzero you received on one midterm exam by your next midterm (or final exam in the\\nevent you miss the third midterm) grade on a percentage equivalent basis. You can use\\na scientific calculator. lf a student is caught cheating, the instructor reserves the right to assign a grade of F\\nfor that exam/quiz or to drop the student with a W from the course. If a student is\\nreturned a graded test or quiz and the student changes his or her incorrect answers in\\norder to receive more points, the student is considered cheating and such an act will\\ncarry the same consequences as those mentioned above. If you are caught cheating on\\nthe final exam, you might receive a grade of F for the course.. \",\n",
       "  'Attendance mandatory': 'Attendance: You are expected to be in class every day. If you have more than 5\\nrecorded absences, you may be dropped from the course. However, it is your\\nresponsibility to drop yourself in the event that you want to drop the class.\\n\\nClass Participation and Academic Etiquette 3%\\nQuizzes 10%\\n\\nMidterm 1 17%\\n\\nMidterm 2 20%\\n\\nMidterm 3 20%\\n\\nFinal 30%\\n\\nGrade Breakdown:\\n90- 100% = A-, A, At.\\n80-89% = B-, B, Bt.\\n70-79% = C.\\n\\n60-69% = D.\\n\\nbelow 60% = F.. Prerequisites: Completion of Math 43 with a grade of C, or equivalent; qualifying score\\non Placement Test within the past calendar year.\\n\\x0cAttendance: You are expected to be in class every day. If you have more than 6\\nrecorded absences, you may be dropped from the course. However, it is your\\nresponsibility to drop yourself in the event that you want to drop the class.. Class Participation and Academic Etiquette: You will be given 10 points for\\nparticipation and academic etiquette for this course. These 10 points make up 3% of\\nyour overall grade. Students will lose half a point for a tardy (late by 5 or more minutes\\nafter class begins) or for leaving 5 or more minutes before class is excused. If you have\\na valid excuse for why you are unable to arrive on time to class or need to leave early,. then you need to email me and state the reason for why you were late or left early. | will\\ndecide if your reason is considered excused or not. Cell phones, computers, and any\\nother electronic devices are not allowed during class. If you are using one of these\\ndevices during class, then you will lose one point for each time that | see you using\\nthese devices. Disruptive behavior will not be tolerated, as well. If you are being. Policies for This Class: These policies are part of the syllabus and will be strictly\\nenforced. By enrolling in this course, you as the student agree to accept these policies\\nand follow them and agree that the instructor reserves the right to drop a student from\\nthe course with a W if any of the policies are violated. Further action may also be\\ntaken against a student who violates specific policies, such as the policy on cheating.. '},\n",
       " 'Du-MATH-1A-63-W19': {'grading': 'Grading Policy\\n\\nThe course grade will be determined by the following criteria:\\nParticipation/Attendance ...... 5% A = 90% — 100%\\nHomework ...............5. 10% B = 80% —89%\\nQUIZZES 1... 6 eee 10% C = 70% —79%\\nMidterm Exams ............ 45% D = 60% —- 69%\\nFinal Exam ................. 30% F = 0% -59%\\n\\n“The instructor reserves the right to assign plus/minus grades for borderline cases.\\n\\nAttendance Policy. A mandatory comprehensive final exam will be given at the end of the quarter. Students may bring one\\n8.5” x 11” sheet (two sides) of handwritten notes to the final exam. A picture ID is required to take the\\nfinal exam. Any student who misses the final exam will receive a grade of F for the course.\\n\\nGrading Policy. There will be two (2) midterm exams given during the quarter. Students may bring one 3” x 5” index card\\n(two-sides) of handwritten notes to each midterm exam. The lowest midterm exam score will be replaced\\nby the final exam score, if the latter is higher. There will be no make-up midterm exams under any\\ncircumstances.. Homework and Quizzes\\n\\nHomework will be assigned for each lesson and will be due on each exam day. Students are responsible for\\nsolving all the problems assigned, showing all work in a neat and orderly manner. Simply giving answers\\nwithout showing work will receive no credit. Homework will be graded on neatness, completeness, and\\ncorrectness. Late homework will be accepted but will receive a maximum of half credit.. student’s responsibility to officially drop the course. Failure to do so may result in a grade of F for the\\ncourse.. ',\n",
       "  'Attendance mandatory': 'Students are expected to attend all classes, to be on time and to stay for the entire class period. Any\\nstudent who misses more than one (1) class during the first two weeks or more than three (3) classes\\nbefore the withdraw deadline may be dropped by the instructor. Each incidence of tardiness or leaving\\nclass early will count as half an absence. If a student decides not to continue with the course, it is the. A mandatory comprehensive final exam will be given at the end of the quarter. Students may bring one\\n8.5” x 11” sheet (two sides) of handwritten notes to the final exam. A picture ID is required to take the\\nfinal exam. Any student who misses the final exam will receive a grade of F for the course.\\n\\nGrading Policy. Accommodations for Students with Disabilities. Grading Policy\\n\\nThe course grade will be determined by the following criteria:\\nParticipation/Attendance ...... 5% A = 90% — 100%\\nHomework ...............5. 10% B = 80% —89%\\nQUIZZES 1... 6 eee 10% C = 70% —79%\\nMidterm Exams ............ 45% D = 60% —- 69%\\nFinal Exam ................. 30% F = 0% -59%\\n\\n“The instructor reserves the right to assign plus/minus grades for borderline cases.\\n\\nAttendance Policy. Workload\\n\\nStudents are expected to spend a minimum of 10 hours outside of class per week reading the book and\\nnotes, solving homework problems, and preparing for the exams.\\n\\nHomework and Quizzes. '},\n",
       " 'Dhaliwal-MATH-1A-67Z-W19': {'grading': \"Quiz problems will be similar to the homework problems but with cosmetic\\nchanges (i.e. numbers, descriptions, names) and questions based on reading\\nof the sections.\\n\\nThe lowest quiz score will be dropped.\\n\\nThere will be three 50-minute exams, with tentative dates listed on the\\nschedule provided.\\n\\nNo makeup exams will be given\\n\\nLowest exam grade will be dropped unless the student is caught cheating on\\nan exam, in which case all exam scores will be used. Attendance Is very important for learning material and staying up to date with\\nlecture.\\n\\nAny student may be dropped after five unexcused (hours) absences.\\n\\nLate arrivals or early absences will count as half an absence.\\n\\x0ce Note: It is the student's responsibility to drop from the course by the deadline.\\nA student who discontinues attending the course without dropping will receive\\nan F grade.\\n\\nGrading:\\n\\nQuizzes: 15%\\n\\nExams (3): 45%\\n\\nFinal: 20%\\n\\nHomework: 10%\\nLabs/Participation: 10%\\nGrade Scale. Homework will be graded on completeness and effort.\\n\\nYou will need to create a pdf of your homework and upload it to canvas.\\nExpect a challenging course requiring about 10 hours work outside of class\\nper week. All questions on homework will be taken, time permitting.\\n\\nQuizzes\\n\\x0cExams:\\n\\nLabs\\n\\nThere will be quizzes given throughout the quarter with.. Note: Online classes, exams are in person. Please look at Discussions\\nsection to find the exam times/locations for the quarter.\\n\\nThere will be labs assigned throughout the quarter that will be completed in\\nclass and within groups.\\n\\nPlease check the canvas groups to see which group you are in.\\n\\nThe lowest lab will be dropped\\n\\nFinal Exam:\\n\\nCheating:. Final Exam:\\n\\nCheating:\\n\\nThere will be one two-hour comprehensive final exam. Missing the final will\\nresult in an F.\\nFinal is multiple choice\\nYou are allowed 1 page of notes 8.5x11 inches, both sides, hand-written, with\\nyour name on the notes.\\n\\no Notes are to be turned in with the final exam.\\n\\nNo tolerance, those caught cheating will be given a O on the assignment and\\nreported to De Anza.\\n\\nAttendance - In person class only, not applicable for the online section.. \",\n",
       "  'Attendance mandatory': \"Attendance Is very important for learning material and staying up to date with\\nlecture.\\n\\nAny student may be dropped after five unexcused (hours) absences.\\n\\nLate arrivals or early absences will count as half an absence.\\n\\x0ce Note: It is the student's responsibility to drop from the course by the deadline.\\nA student who discontinues attending the course without dropping will receive\\nan F grade.\\n\\nGrading:\\n\\nQuizzes: 15%\\n\\nExams (3): 45%\\n\\nFinal: 20%\\n\\nHomework: 10%\\nLabs/Participation: 10%\\nGrade Scale. Final Exam:\\n\\nCheating:\\n\\nThere will be one two-hour comprehensive final exam. Missing the final will\\nresult in an F.\\nFinal is multiple choice\\nYou are allowed 1 page of notes 8.5x11 inches, both sides, hand-written, with\\nyour name on the notes.\\n\\no Notes are to be turned in with the final exam.\\n\\nNo tolerance, those caught cheating will be given a O on the assignment and\\nreported to De Anza.\\n\\nAttendance - In person class only, not applicable for the online section.. Your work will be graded on correctness, writing and presentation.\\nYour solutions should be clear, with work flowing from top to bottom, left to\\nright.\\ne Late work will not be accepted and assignments are collected in the first 5\\nminutes of class.\\no It is your responsibility to take the appropriate measures to ensure\\nthat you are in class with a completed assignment at the start of\\nclass.\\n\\nHomework:\\n\\nHomework will be assigned and collected in homework sets.. e Dropping Class: https:/Mwww.deanza.edu/registration/add-drop.html#drop\\n(Links to an external site.)Links to an external site.\\n\\x0ce Withdrawing: https:/Mwww.deanza.edu/registration/add-drop.html#dropw\\n(Links to an external site.)Links to an external site.\\n\\ne Note: If student attended even one class, it is the responsibilities of student to\\ndrop/withdraw from course.\\n\\x0cStudent Learning Outcome(s):. Note: Online classes, exams are in person. Please look at Discussions\\nsection to find the exam times/locations for the quarter.\\n\\nThere will be labs assigned throughout the quarter that will be completed in\\nclass and within groups.\\n\\nPlease check the canvas groups to see which group you are in.\\n\\nThe lowest lab will be dropped\\n\\nFinal Exam:\\n\\nCheating:. \"}}"
      ]
     },
     "execution_count": 13,
     "metadata": {},
     "output_type": "execute_result"
    }
   ],
   "source": [
    "secondary_data"
   ]
  },
  {
   "cell_type": "code",
   "execution_count": 14,
   "metadata": {},
   "outputs": [],
   "source": [
    "with open('data/secondary_data.json', 'w') as outfile:\n",
    "    json.dump(secondary_data, outfile, indent=4)"
   ]
  },
  {
   "cell_type": "code",
   "execution_count": null,
   "metadata": {},
   "outputs": [],
   "source": []
  },
  {
   "cell_type": "code",
   "execution_count": null,
   "metadata": {},
   "outputs": [],
   "source": []
  },
  {
   "cell_type": "code",
   "execution_count": null,
   "metadata": {},
   "outputs": [],
   "source": []
  },
  {
   "cell_type": "code",
   "execution_count": null,
   "metadata": {},
   "outputs": [],
   "source": []
  },
  {
   "cell_type": "code",
   "execution_count": null,
   "metadata": {},
   "outputs": [],
   "source": []
  },
  {
   "cell_type": "code",
   "execution_count": null,
   "metadata": {},
   "outputs": [],
   "source": []
  },
  {
   "cell_type": "code",
   "execution_count": null,
   "metadata": {},
   "outputs": [],
   "source": []
  },
  {
   "cell_type": "code",
   "execution_count": null,
   "metadata": {},
   "outputs": [],
   "source": []
  },
  {
   "cell_type": "code",
   "execution_count": null,
   "metadata": {},
   "outputs": [],
   "source": []
  },
  {
   "cell_type": "code",
   "execution_count": null,
   "metadata": {},
   "outputs": [],
   "source": [
    "grading breakdown, marks distribution,\n",
    "\n",
    "\n",
    "p1: spring22, spring23\n",
    "\n",
    "timestamps"
   ]
  },
  {
   "cell_type": "code",
   "execution_count": null,
   "metadata": {},
   "outputs": [],
   "source": []
  },
  {
   "cell_type": "code",
   "execution_count": null,
   "metadata": {},
   "outputs": [],
   "source": [
    "extracting individual texts is helpful."
   ]
  },
  {
   "cell_type": "code",
   "execution_count": null,
   "metadata": {},
   "outputs": [],
   "source": [
    "categorize based on time?\n",
    "categorize based on professor?\n",
    "categorize based on subject?"
   ]
  }
 ],
 "metadata": {
  "kernelspec": {
   "display_name": "venv",
   "language": "python",
   "name": "python3"
  },
  "language_info": {
   "codemirror_mode": {
    "name": "ipython",
    "version": 3
   },
   "file_extension": ".py",
   "mimetype": "text/x-python",
   "name": "python",
   "nbconvert_exporter": "python",
   "pygments_lexer": "ipython3",
   "version": "3.12.2"
  }
 },
 "nbformat": 4,
 "nbformat_minor": 2
}
